{
 "cells": [
  {
   "cell_type": "code",
   "execution_count": 3,
   "metadata": {},
   "outputs": [],
   "source": [
    "from langchain import LLMChain, PromptTemplate\n",
    "from langchain.llms import OpenAI\n",
    "import os, sys\n",
    "sys.path.insert(1, 'D:\\Github\\DeepLake-Langchain')\n",
    "import credentials\n",
    "os.environ[\"OPENAI_API_KEY\"] = credentials.openai\n",
    "os.environ['ACTIVELOOP_TOKEN'] = credentials.active_loop"
   ]
  },
  {
   "cell_type": "code",
   "execution_count": 4,
   "metadata": {},
   "outputs": [
    {
     "data": {
      "text/plain": [
       "'\\nThe latest Fast and Furious movie is Fast & Furious 9, which was released in May 2021.'"
      ]
     },
     "execution_count": 4,
     "metadata": {},
     "output_type": "execute_result"
    }
   ],
   "source": [
    "llm = OpenAI(temperature=0)\n",
    "\n",
    "template = \"\"\"You are an assistant that answers the following question correctly and honestly: {question}\\n\\n\"\"\"\n",
    "prompt_template = PromptTemplate(input_variables=[\"question\"], template=template)\n",
    "\n",
    "question_chain = LLMChain(llm=llm, prompt=prompt_template)\n",
    "\n",
    "question_chain.run(\"what is the latest fast and furious movie?\")"
   ]
  },
  {
   "cell_type": "code",
   "execution_count": 5,
   "metadata": {},
   "outputs": [],
   "source": [
    "import os\n",
    "\n",
    "os.environ[\"GOOGLE_CSE_ID\"] = credentials.google_search_key\n",
    "os.environ[\"GOOGLE_API_KEY\"] = credentials.google_api_key"
   ]
  },
  {
   "cell_type": "code",
   "execution_count": 6,
   "metadata": {},
   "outputs": [],
   "source": [
    "from langchain.tools import Tool\n",
    "from langchain.utilities import GoogleSearchAPIWrapper\n",
    "\n",
    "search = GoogleSearchAPIWrapper()\n",
    "TOP_N_RESULTS = 10"
   ]
  },
  {
   "cell_type": "code",
   "execution_count": 7,
   "metadata": {},
   "outputs": [],
   "source": [
    "def top_n_results(query):\n",
    "    return search.results(query, TOP_N_RESULTS)\n",
    "\n",
    "tool = Tool(\n",
    "    name = \"Google Search\",\n",
    "    description=\"Search Google for recent results.\",\n",
    "    func=top_n_results\n",
    ")"
   ]
  },
  {
   "cell_type": "code",
   "execution_count": 8,
   "metadata": {},
   "outputs": [
    {
     "name": "stdout",
     "output_type": "stream",
     "text": [
      "Fast & Furious movies in order | chronological and release order ...\n",
      "https://www.radiotimes.com/movies/fast-and-furious-order/\n",
      "Mar 22, 2023 ... Fast & Furious Presents: Hobbs & Shaw (2019); F9 (2021); Fast and Furious 10 (2023). Tokyo Drift also marks the first appearance of Han Lue, a ...\n",
      "--------------------------------------------------\n",
      "FAST X | Official Trailer 2 - YouTube\n",
      "https://www.youtube.com/watch?v=aOb15GVFZxU\n",
      "Apr 19, 2023 ... Fast X, the tenth film in the Fast & Furious Saga, launches the final ... witnessed it all and has spent the last 12 years masterminding a ...\n",
      "--------------------------------------------------\n",
      "Fast & Furious - Wikipedia\n",
      "https://en.wikipedia.org/wiki/Fast_%26_Furious\n",
      "It began the original tetralogy of films focused on illegal street racing, which culminated in the film Fast & Furious (2009). The series transitioned ...\n",
      "--------------------------------------------------\n",
      "How to Watch Fast and Furious Movies in Chronological Order - IGN\n",
      "https://www.ign.com/articles/fast-and-furious-movies-in-order\n",
      "6 days ago ... With the latest Fast and Furious film: Fast X out now, we've put together this handy guide on how to watch the Fast and Furious movies in ...\n",
      "--------------------------------------------------\n",
      "How many 'Fast & Furious' movies are there? Here's the list in order.\n",
      "https://www.usatoday.com/story/entertainment/movies/2022/07/29/fast-and-furious-movies-order-of-release/10062943002/\n",
      "Jul 29, 2022 ... What is the correct order of 'Fast and Furious' movies? · \"The Fast and the Furious\" (2001) · \"2 Fast 2 Furious\" (2003) · \"Fast & Furious\" (2009) ...\n",
      "--------------------------------------------------\n",
      "Is Fast X the Last Movie of the Fast and Furious Franchise?\n",
      "https://www.comingsoon.net/guides/news/1287501-is-fast-x-the-last-movie-fast-and-furious-franchise-final-one-10\n",
      "May 11, 2023 ... Will there be another Fast and Furious movie? ... Fast X isn't the last movie of the Fast and Furious franchise, as Fast and Furious 11 is already ...\n",
      "--------------------------------------------------\n",
      "Fast & Furious Movies In Order: How to Watch Fast Saga ...\n",
      "https://editorial.rottentomatoes.com/guide/fast-furious-movies-in-order/\n",
      "After that, hop to franchise best Furious 7. Follow it up with The Fate of the Furious and spin-off Hobbs & Shaw and then the latest: F9 and Fast X. See below ...\n",
      "--------------------------------------------------\n",
      "Latest 'Fast & Furious' Movie Speeds to Top of Weekend Box Office ...\n",
      "https://www.wsj.com/articles/latest-fast-furious-movie-speeds-to-top-of-weekend-box-office-7b6486\n",
      "May 21, 2023 ... 'Fast X' opened with $67.5 million domestically and $251.4 million overseas, showing international popularity ... Universal Pictures' “Fast X” ...\n",
      "--------------------------------------------------\n",
      "Here's How to Watch Every Fast and Furious Movie In Order ...\n",
      "https://www.menshealth.com/entertainment/a36716650/fast-and-furious-movies-in-order/\n",
      "May 18, 2023 ... Furious 7 is the last movie in the Fast and Furious series to feature the late Paul Walker (as Brian O'Conner), and the movie sends his ...\n",
      "--------------------------------------------------\n",
      "'Fast and Furious X' filming: Protests held in Angelino Heights over ...\n",
      "https://abc7.com/fast-and-furious-movie-filming-angelino-heights-los-angeles/12167938/\n",
      "Aug 27, 2022 ... Some Los Angeles residents on Friday gathered to protest the filming of the latest \"Fast and Furious\" movie in their neighborhood.\n",
      "--------------------------------------------------\n"
     ]
    }
   ],
   "source": [
    "query = \"What is the latest fast and furious movie?\"\n",
    "\n",
    "results = tool.run(query)\n",
    "\n",
    "for result in results:\n",
    "    print(result[\"title\"])\n",
    "    print(result[\"link\"])\n",
    "    print(result[\"snippet\"])\n",
    "    print(\"-\"*50)"
   ]
  },
  {
   "cell_type": "code",
   "execution_count": 9,
   "metadata": {},
   "outputs": [],
   "source": [
    "import newspaper\n",
    "\n",
    "pages_content = []\n",
    "\n",
    "for result in results:\n",
    "\ttry:\n",
    "\t\tarticle = newspaper.Article(result[\"link\"])\n",
    "\t\tarticle.download()\n",
    "\t\tarticle.parse()\n",
    "\t\tif len(article.text) > 0:\n",
    "\t\t\tpages_content.append({ \"url\": result[\"link\"], \"text\": article.text })\n",
    "\texcept:\n",
    "\t\tcontinue"
   ]
  },
  {
   "cell_type": "code",
   "execution_count": 10,
   "metadata": {},
   "outputs": [],
   "source": [
    "from langchain.text_splitter import RecursiveCharacterTextSplitter\n",
    "from langchain.docstore.document import Document\n",
    "\n",
    "text_splitter = RecursiveCharacterTextSplitter(chunk_size=4000, chunk_overlap=100)\n",
    "docs = []\n",
    "for d in pages_content:\n",
    "\tchunks = text_splitter.split_text(d[\"text\"])\n",
    "\tfor chunk in chunks:\n",
    "\t\tnew_doc = Document(page_content=chunk, metadata={ \"source\": d[\"url\"] })\n",
    "\t\tdocs.append(new_doc)"
   ]
  },
  {
   "cell_type": "code",
   "execution_count": 11,
   "metadata": {},
   "outputs": [],
   "source": [
    "from langchain.embeddings import OpenAIEmbeddings\n",
    "\n",
    "embeddings = OpenAIEmbeddings(model=\"text-embedding-ada-002\")\n",
    "\n",
    "docs_embeddings = embeddings.embed_documents([doc.page_content for doc in docs])\n",
    "query_embedding = embeddings.embed_query(query)"
   ]
  },
  {
   "cell_type": "code",
   "execution_count": 12,
   "metadata": {},
   "outputs": [],
   "source": [
    "import numpy as np\n",
    "from sklearn.metrics.pairwise import cosine_similarity\n",
    "def get_top_k_indices(list_of_doc_vectors, query_vector, top_k):\n",
    "  # convert the lists of vectors to numpy arrays\n",
    "  list_of_doc_vectors = np.array(list_of_doc_vectors)\n",
    "  query_vector = np.array(query_vector)\n",
    "\n",
    "  # compute cosine similarities\n",
    "  similarities = cosine_similarity(query_vector.reshape(1, -1), list_of_doc_vectors).flatten()\n",
    "\n",
    "  # sort the vectors based on cosine similarity\n",
    "  sorted_indices = np.argsort(similarities)[::-1]\n",
    "\n",
    "  # retrieve the top K indices from the sorted list\n",
    "  top_k_indices = sorted_indices[:top_k]\n",
    "\n",
    "  return top_k_indices"
   ]
  },
  {
   "cell_type": "code",
   "execution_count": 13,
   "metadata": {},
   "outputs": [],
   "source": [
    "top_k = 2\n",
    "best_indexes = get_top_k_indices(docs_embeddings, query_embedding, top_k)\n",
    "best_k_documents = [doc for i, doc in enumerate(docs) if i in best_indexes]"
   ]
  },
  {
   "cell_type": "code",
   "execution_count": 14,
   "metadata": {},
   "outputs": [
    {
     "data": {
      "text/plain": [
       "[Document(page_content='American media franchise\\n\\nFast & Furious (also known as The Fast and the Furious) is a media franchise centered on a series of action films that are largely concerned with street racing, heists, spies, and family. The franchise also includes short films, a television series, toys, video games, live shows, and theme park attractions. The films are distributed by Universal Pictures.\\n\\nThe first film, based on the 1998 Vibe magazine article \"Racer X\" by Ken Li and written by Gary Scott Thompson, Erik Bergquist, and David Ayer, was released in 2001. It began the original tetralogy of films focused on illegal street racing, which culminated in the film Fast & Furious (2009). The series transitioned towards heists and spying with Fast Five (2011), which was followed by five sequels in that genre, the most recent of which, Fast X, was released on May 19, 2023.\\n\\nUniversal expanded the series to include the spin-off film Hobbs & Shaw (2019), while its subsidiary DreamWorks Animation followed this with the six-season animated streaming television series Fast & Furious Spy Racers (2019–2021). Soundtrack albums have been released for all the films, as well as compilation albums containing existing music heard in the films. Two short films that tie into the series have also been released.\\n\\nThe series has been commercially successful. It is Universal\\'s biggest franchise and the seventh highest-grossing film series, with a combined gross of over $7 billion.[2] Critical reception for the first four films was mixed until the fifth and later films, which were more positively received. Outside of the films, Fast & Furious has been the focus of other media, including attractions at Universal Studios Hollywood and Universal Studios Florida, live shows, commercials, toys, and video games.\\n\\nFilms [ edit ]\\n\\nReleased [ edit ]\\n\\nThe Fast and the Furious (2001) [ edit ]\\n\\nBrian O\\'Conner, an LAPD officer, goes undercover in the street racing world to investigate a group of unknown truck hijackers, believed to be led by Dominic Toretto.\\n\\n2 Fast 2 Furious (2003) [ edit ]\\n\\nBrian O\\'Conner and Roman Pearce team up to go undercover for the U.S. Customs Service to bring down drug lord Carter Verone in exchange for the erasure of their criminal records.\\n\\nThis is the only film in the main series without Vin Diesel as Dominic Toretto.\\n\\nThe Fast and the Furious: Tokyo Drift (2006) [ edit ]\\n\\nHigh school car enthusiast Sean Boswell is sent to live in Tokyo with his father and finds solace in the city\\'s drifting community.\\n\\nVin Diesel makes a cameo appearance as Dominic Toretto at the end of the film.\\n\\nFast & Furious (2009) [ edit ]\\n\\nDominic Toretto and Federal Bureau of Investigation (FBI) agent Brian O\\'Conner are forced to work together to avenge the murder of Toretto\\'s lover Letty Ortiz and apprehend drug lord Arturo Braga.\\n\\nThe film is set five years after the events of The Fast and the Furious, and before Tokyo Drift, with Sung Kang reprising his role as Han Lue from the latter film.[3]\\n\\nFast Five (2011) [ edit ]\\n\\nDom, Brian, along with Dom\\'s sister Mia plan a heist to steal $100 million from corrupt businessman Hernan Reyes while being pursued for arrest by U.S. Diplomatic Security Service (DSS) agent Luke Hobbs.\\n\\nThe film is also set before the events of Tokyo Drift. Despite not appearing in the film, a picture of Michelle Rodriguez as Letty Ortiz is seen in the mid-credits scene, where Eva Mendes reprises her role as Monica Fuentes from 2 Fast 2 Furious.\\n\\nFast & Furious 6 (2013) [ edit ]\\n\\nDominic Toretto, Brian O\\'Conner and their team are offered amnesty for their crimes by Luke Hobbs, in exchange for helping him take down a skilled mercenary organization led by Owen Shaw, one member of which is Toretto\\'s former lover Letty Ortiz.\\n\\nThe film is the final film to be set before the events of Tokyo Drift. Jason Statham appears as Owen\\'s older brother Deckard Shaw in the credits scene, seemingly killing Han, as seen in Tokyo Drift.\\n\\nFurious 7 (2015) [ edit ]', metadata={'source': 'https://en.wikipedia.org/wiki/Fast_%26_Furious'}),\n",
       " Document(page_content=\"2 Fast 2 Furious (2003)\\n\\nUniversal\\n\\n2 Fast 2 Furious is the only movie in the main Fast and Furious series to not feature the franchise's face and superstar, Vin Diesel. Still, despite Dom's absence, 2 Fast 2 Furious (which takes place chronologically after The Fast and the Furious) is very silly, very fun, and very action packed. The story also introduces Ludacris as Tej and Tyrese Gibson as Roman, two characters who become crew mainstays over the course of the next... two decades.\\n\\nThe Fast and the Furious: Tokyo Drift (2006)\\n\\nUniversal\\n\\nSo here's where our timeline gets a little... twisted. The Fast and the Furious: Tokyo Drift was originally seen as a soft reboot of the Fast and Furious franchise, in that it starred neither Paul Walker nor Vin Diesel (nor Ludacris, nor Michelle Rodriguez, nor Tyrese). Instead, it moved the action to Japan, and introduced a street racer named Han (Sung Kang), who eventually became a fan-favorite. Some... events of this movie.... made keeping Han around in future films a little tricky. Hence some future playing around with timelines. Luckily, the movie ends with quite the Furious-verse cameo, which makes way for the wild timeline that establishes itself in future films.\\n\\n\\n\\n\\n\\nFast & Furious (2009)\\n\\nUniversal\\n\\nWe get back to our old pals Dom and Brian with Fast and Furious, the confusingly named fourth installment of the franchise. This is set after 2 Fast 2 Furious, but as we previously alluded, far before The Fast and the Furious: Tokyo Drift. We'll get there. The franchise doesn't hit full speed here, but we're getting there.\\n\\nFast Five (2011)\\n\\nUniversal\\n\\nHere's where things really, really enter a new gear. Fast Five adds The Rock to the movie's repertoire of players, while bringing back Ludacris and Tyrese, along with Gal Gadot, Sung Kang, and the rest of our heroes for... really just an absolutely legendary action movie. Great stuff here, and where the franchise finally realized its most important lesson: bigger, and most outrageous, is without a doubt better.\\n\\nFast & Furious 6 (2013)\\n\\nUniversal\\n\\nFast & Furious 6 picks up where Fast Five leaves off, in terms of being a supercharged, super team-up heist movie. But a couple new things happen: a new villain family is introduced (Luke Evans as Owen Shaw), and a credits scene with a new franchise character (Jason Statham as Deckard Shaw) reveals that the series' main timeline has finally caught up with The Fast and the Furious: Tokyo Drift. It may sound confusing, but it's not too bad. This is our last movie with the great Han for a little while.\\n\\nFurious 7 (2015)\\n\\nUniversal\\n\\nCue the tears. Furious 7 is the last movie in the Fast and Furious series to feature the late Paul Walker (as Brian O'Conner), and the movie sends his character off in really as caring and delightful a way as they possibly could have. It helps the Furious 7 legacy that the movie itself might be the best one in the entire series; Deckard Shaw (Statham), in his first starring role in the franchise, is a more-than-formidable adversary, and has some really great fight scenes with both The Rock and Vin Diesel. Some incredible action along the way to the emotional end in this one.\\n\\nThe Fate of the Furious (2017)\\n\\nUniversal\\n\\nThere's no '8' in the title (outside of Fate.. F8... get it?), but The Fate of the Furious is the eighth film in the main Fast and Furious series. This one introduces an Academy Award-winner (Charlize Theron) as a villain named Cipher who manages to turn Dom against the family. No Coronas any time soon. At this point, you've gotta know what you're getting, right?\\n\\nFast and Furious Presents: Hobbs & Shaw (2019)\\n\\nUniversal\", metadata={'source': 'https://www.menshealth.com/entertainment/a36716650/fast-and-furious-movies-in-order/'})]"
      ]
     },
     "execution_count": 14,
     "metadata": {},
     "output_type": "execute_result"
    }
   ],
   "source": [
    "best_k_documents"
   ]
  },
  {
   "cell_type": "code",
   "execution_count": 15,
   "metadata": {},
   "outputs": [
    {
     "name": "stdout",
     "output_type": "stream",
     "text": [
      "Answer: The latest Fast and Furious movie is Fast and Furious Presents: Hobbs & Shaw (2019).\n",
      "Sources: https://en.wikipedia.org/wiki/Fast_%26_Furious, https://www.menshealth.com/entertainment/a36716650/fast-and-furious-movies-in-order/\n"
     ]
    }
   ],
   "source": [
    "from langchain.chains.qa_with_sources import load_qa_with_sources_chain\n",
    "from langchain.llms import OpenAI\n",
    "\n",
    "chain = load_qa_with_sources_chain(OpenAI(temperature=0), chain_type=\"stuff\")\n",
    "\n",
    "response = chain({\"input_documents\": best_k_documents, \"question\": query}, return_only_outputs=True)\n",
    "\n",
    "response_text, response_sources = response[\"output_text\"].split(\"SOURCES:\")\n",
    "response_text = response_text.strip()\n",
    "response_sources = response_sources.strip()\n",
    "\n",
    "print(f\"Answer: {response_text}\")\n",
    "print(f\"Sources: {response_sources}\")"
   ]
  },
  {
   "cell_type": "code",
   "execution_count": null,
   "metadata": {},
   "outputs": [],
   "source": []
  }
 ],
 "metadata": {
  "kernelspec": {
   "display_name": "deeplakelangchain",
   "language": "python",
   "name": "python3"
  },
  "language_info": {
   "codemirror_mode": {
    "name": "ipython",
    "version": 3
   },
   "file_extension": ".py",
   "mimetype": "text/x-python",
   "name": "python",
   "nbconvert_exporter": "python",
   "pygments_lexer": "ipython3",
   "version": "3.10.11"
  },
  "orig_nbformat": 4
 },
 "nbformat": 4,
 "nbformat_minor": 2
}
