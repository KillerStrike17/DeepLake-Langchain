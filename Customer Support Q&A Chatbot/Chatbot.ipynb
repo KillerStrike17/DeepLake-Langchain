{
 "cells": [
  {
   "cell_type": "code",
   "execution_count": 1,
   "metadata": {},
   "outputs": [],
   "source": [
    "from langchain.embeddings.openai import OpenAIEmbeddings\n",
    "from langchain.vectorstores import DeepLake\n",
    "from langchain.text_splitter import CharacterTextSplitter\n",
    "from langchain import OpenAI\n",
    "from langchain.document_loaders import SeleniumURLLoader\n",
    "from langchain import PromptTemplate"
   ]
  },
  {
   "cell_type": "code",
   "execution_count": 2,
   "metadata": {},
   "outputs": [],
   "source": [
    "# we'll use information from the following articles\n",
    "urls = ['https://beebom.com/what-is-nft-explained/',\n",
    "        'https://beebom.com/how-delete-spotify-account/',\n",
    "        'https://beebom.com/how-download-gif-twitter/',\n",
    "        'https://beebom.com/how-use-chatgpt-linux-terminal/',\n",
    "        'https://beebom.com/how-delete-spotify-account/',\n",
    "        'https://beebom.com/how-save-instagram-story-with-music/',\n",
    "        'https://beebom.com/how-install-pip-windows/',\n",
    "        'https://beebom.com/how-check-disk-usage-linux/']"
   ]
  },
  {
   "attachments": {},
   "cell_type": "markdown",
   "metadata": {},
   "source": [
    "### Splitting the documents in chunks"
   ]
  },
  {
   "cell_type": "code",
   "execution_count": 3,
   "metadata": {},
   "outputs": [],
   "source": [
    "# using selenium to scrape the documents\n",
    "loader = SeleniumURLLoader(urls=urls)\n",
    "docs_not_splitted = loader.load()\n",
    "\n",
    "#we split the documents into smaller chunks\n",
    "text_splitter = CharacterTextSplitter(chunk_size = 1000, chunk_overlap = 0)\n",
    "docs = text_splitter.split_documents(docs_not_splitted)"
   ]
  },
  {
   "cell_type": "code",
   "execution_count": 5,
   "metadata": {},
   "outputs": [
    {
     "data": {
      "text/plain": [
       "Document(page_content='Home  Internet  NFTs Explained: What is an NFT and What is Its Use\\n\\nNFTs Explained: What is an NFT and What is Its Use\\n\\nArjun Sha\\n\\nLast Updated: December 6, 2021 4:42 pm\\n\\nAfter Bitcoin and Blockchain, NFT is another word to have entered our lexicon. The buzzword is everywhere and people are wondering what is NFT and what is its use? Well, there is not really a one-line explainer. And that’s why we have brought a comprehensive explainer on NFT, what is its use in digital art, and more. So without wasting any time, let’s go ahead and learn about NFTs (Non-fungible Token) in complete detail.\\n\\nWhat is NFT: A Definitive Explainer (2021)\\n\\nHere, we have mentioned all the questions that people have in their minds regarding NFT. You can click on the table to find all the sections that we have covered in this article and click on the link to move to the corresponding section.\\n\\nTable of Contents\\n\\nNFTs Explained: What is NFT in Crypto?\\n\\nWhat is the Use of NFT in Digital Art?', metadata={'source': 'https://beebom.com/what-is-nft-explained/'})"
      ]
     },
     "execution_count": 5,
     "metadata": {},
     "output_type": "execute_result"
    }
   ],
   "source": [
    "docs[0]"
   ]
  },
  {
   "cell_type": "code",
   "execution_count": 6,
   "metadata": {},
   "outputs": [
    {
     "data": {
      "text/plain": [
       "124"
      ]
     },
     "execution_count": 6,
     "metadata": {},
     "output_type": "execute_result"
    }
   ],
   "source": [
    "len(docs)"
   ]
  },
  {
   "cell_type": "code",
   "execution_count": 4,
   "metadata": {},
   "outputs": [],
   "source": [
    "import os, sys\n",
    "sys.path.insert(1, 'D:\\Github\\DeepLake-Langchain')\n",
    "import credentials\n",
    "os.environ[\"OPENAI_API_KEY\"] = credentials.openai\n",
    "os.environ[\"ACTIVELOOP_TOKEN\"] = credentials.active_loop"
   ]
  },
  {
   "cell_type": "code",
   "execution_count": 7,
   "metadata": {},
   "outputs": [
    {
     "name": "stdout",
     "output_type": "stream",
     "text": [
      "Your Deep Lake dataset has been successfully created!\n",
      "The dataset is private so make sure you are logged in!\n"
     ]
    },
    {
     "name": "stderr",
     "output_type": "stream",
     "text": [
      "|"
     ]
    },
    {
     "name": "stdout",
     "output_type": "stream",
     "text": [
      "Dataset(path='hub://megatron17/customer_support', tensors=['embedding', 'id', 'metadata', 'text'])\n",
      "\n",
      "  tensor      htype       shape      dtype  compression\n",
      "  -------    -------     -------    -------  ------- \n",
      " embedding  embedding  (124, 1536)  float32   None   \n",
      "    id        text      (124, 1)      str     None   \n",
      " metadata     json      (124, 1)      str     None   \n",
      "   text       text      (124, 1)      str     None   \n"
     ]
    },
    {
     "name": "stderr",
     "output_type": "stream",
     "text": [
      " \r"
     ]
    },
    {
     "data": {
      "text/plain": [
       "['cbe71ead-1a61-11ee-b60b-00d861dd19c7',\n",
       " 'cbe71eae-1a61-11ee-98a7-00d861dd19c7',\n",
       " 'cbe71eaf-1a61-11ee-b082-00d861dd19c7',\n",
       " 'cbe71eb0-1a61-11ee-b8f9-00d861dd19c7',\n",
       " 'cbe71eb1-1a61-11ee-9aea-00d861dd19c7',\n",
       " 'cbe71eb2-1a61-11ee-8297-00d861dd19c7',\n",
       " 'cbe71eb3-1a61-11ee-9092-00d861dd19c7',\n",
       " 'cbe71eb4-1a61-11ee-bdca-00d861dd19c7',\n",
       " 'cbe71eb5-1a61-11ee-a0b8-00d861dd19c7',\n",
       " 'cbe71eb6-1a61-11ee-9f19-00d861dd19c7',\n",
       " 'cbe71eb7-1a61-11ee-99ea-00d861dd19c7',\n",
       " 'cbe71eb8-1a61-11ee-bac4-00d861dd19c7',\n",
       " 'cbe71eb9-1a61-11ee-b229-00d861dd19c7',\n",
       " 'cbe71eba-1a61-11ee-b51c-00d861dd19c7',\n",
       " 'cbe71ebb-1a61-11ee-9369-00d861dd19c7',\n",
       " 'cbe71ebc-1a61-11ee-bdf0-00d861dd19c7',\n",
       " 'cbe71ebd-1a61-11ee-9e80-00d861dd19c7',\n",
       " 'cbe71ebe-1a61-11ee-96ea-00d861dd19c7',\n",
       " 'cbe71ebf-1a61-11ee-a556-00d861dd19c7',\n",
       " 'cbe71ec0-1a61-11ee-b910-00d861dd19c7',\n",
       " 'cbe71ec1-1a61-11ee-ba1e-00d861dd19c7',\n",
       " 'cbe71ec2-1a61-11ee-8dfa-00d861dd19c7',\n",
       " 'cbe71ec3-1a61-11ee-a04c-00d861dd19c7',\n",
       " 'cbe71ec4-1a61-11ee-88e9-00d861dd19c7',\n",
       " 'cbe71ec5-1a61-11ee-9209-00d861dd19c7',\n",
       " 'cbe71ec6-1a61-11ee-88f1-00d861dd19c7',\n",
       " 'cbe71ec7-1a61-11ee-b05f-00d861dd19c7',\n",
       " 'cbe71ec8-1a61-11ee-8611-00d861dd19c7',\n",
       " 'cbe71ec9-1a61-11ee-a793-00d861dd19c7',\n",
       " 'cbe71eca-1a61-11ee-b329-00d861dd19c7',\n",
       " 'cbe71ecb-1a61-11ee-9008-00d861dd19c7',\n",
       " 'cbe71ecc-1a61-11ee-bf2f-00d861dd19c7',\n",
       " 'cbe71ecd-1a61-11ee-ba39-00d861dd19c7',\n",
       " 'cbe71ece-1a61-11ee-a215-00d861dd19c7',\n",
       " 'cbe71ecf-1a61-11ee-bee5-00d861dd19c7',\n",
       " 'cbe71ed0-1a61-11ee-ad21-00d861dd19c7',\n",
       " 'cbe71ed1-1a61-11ee-b3da-00d861dd19c7',\n",
       " 'cbe71ed2-1a61-11ee-a685-00d861dd19c7',\n",
       " 'cbe71ed3-1a61-11ee-b9bd-00d861dd19c7',\n",
       " 'cbe71ed4-1a61-11ee-8967-00d861dd19c7',\n",
       " 'cbe71ed5-1a61-11ee-93d9-00d861dd19c7',\n",
       " 'cbe71ed6-1a61-11ee-8652-00d861dd19c7',\n",
       " 'cbe71ed7-1a61-11ee-aeb5-00d861dd19c7',\n",
       " 'cbe71ed8-1a61-11ee-84b8-00d861dd19c7',\n",
       " 'cbe71ed9-1a61-11ee-b986-00d861dd19c7',\n",
       " 'cbe71eda-1a61-11ee-b66e-00d861dd19c7',\n",
       " 'cbe71edb-1a61-11ee-abc6-00d861dd19c7',\n",
       " 'cbe71edc-1a61-11ee-9521-00d861dd19c7',\n",
       " 'cbe71edd-1a61-11ee-9e37-00d861dd19c7',\n",
       " 'cbe71ede-1a61-11ee-a3d3-00d861dd19c7',\n",
       " 'cbe71edf-1a61-11ee-8671-00d861dd19c7',\n",
       " 'cbe71ee0-1a61-11ee-96a4-00d861dd19c7',\n",
       " 'cbe71ee1-1a61-11ee-9bc9-00d861dd19c7',\n",
       " 'cbe71ee2-1a61-11ee-943c-00d861dd19c7',\n",
       " 'cbe71ee3-1a61-11ee-a718-00d861dd19c7',\n",
       " 'cbe71ee4-1a61-11ee-a8fc-00d861dd19c7',\n",
       " 'cbe71ee5-1a61-11ee-ba6e-00d861dd19c7',\n",
       " 'cbe71ee6-1a61-11ee-8d16-00d861dd19c7',\n",
       " 'cbe71ee7-1a61-11ee-bddc-00d861dd19c7',\n",
       " 'cbe71ee8-1a61-11ee-a35c-00d861dd19c7',\n",
       " 'cbe71ee9-1a61-11ee-9e87-00d861dd19c7',\n",
       " 'cbe71eea-1a61-11ee-9c55-00d861dd19c7',\n",
       " 'cbe71eeb-1a61-11ee-b761-00d861dd19c7',\n",
       " 'cbe71eec-1a61-11ee-a15d-00d861dd19c7',\n",
       " 'cbe71eed-1a61-11ee-90ab-00d861dd19c7',\n",
       " 'cbe71eee-1a61-11ee-83fc-00d861dd19c7',\n",
       " 'cbe71eef-1a61-11ee-b385-00d861dd19c7',\n",
       " 'cbe71ef0-1a61-11ee-bac8-00d861dd19c7',\n",
       " 'cbe71ef1-1a61-11ee-a31d-00d861dd19c7',\n",
       " 'cbe71ef2-1a61-11ee-ba9f-00d861dd19c7',\n",
       " 'cbe71ef3-1a61-11ee-80e6-00d861dd19c7',\n",
       " 'cbe71ef4-1a61-11ee-85f8-00d861dd19c7',\n",
       " 'cbe71ef5-1a61-11ee-ae0f-00d861dd19c7',\n",
       " 'cbe71ef6-1a61-11ee-b5c4-00d861dd19c7',\n",
       " 'cbe71ef7-1a61-11ee-9986-00d861dd19c7',\n",
       " 'cbe71ef8-1a61-11ee-ad74-00d861dd19c7',\n",
       " 'cbe71ef9-1a61-11ee-b4ca-00d861dd19c7',\n",
       " 'cbe71efa-1a61-11ee-b23e-00d861dd19c7',\n",
       " 'cbe71efb-1a61-11ee-aac3-00d861dd19c7',\n",
       " 'cbe71efc-1a61-11ee-a804-00d861dd19c7',\n",
       " 'cbe71efd-1a61-11ee-8012-00d861dd19c7',\n",
       " 'cbe71efe-1a61-11ee-a729-00d861dd19c7',\n",
       " 'cbe71eff-1a61-11ee-9f96-00d861dd19c7',\n",
       " 'cbe71f00-1a61-11ee-b4fe-00d861dd19c7',\n",
       " 'cbe71f01-1a61-11ee-b786-00d861dd19c7',\n",
       " 'cbe71f02-1a61-11ee-9552-00d861dd19c7',\n",
       " 'cbe71f03-1a61-11ee-8f9c-00d861dd19c7',\n",
       " 'cbe71f04-1a61-11ee-aebc-00d861dd19c7',\n",
       " 'cbe71f05-1a61-11ee-94d0-00d861dd19c7',\n",
       " 'cbe71f06-1a61-11ee-ad08-00d861dd19c7',\n",
       " 'cbe71f07-1a61-11ee-b7b5-00d861dd19c7',\n",
       " 'cbe71f08-1a61-11ee-8407-00d861dd19c7',\n",
       " 'cbe71f09-1a61-11ee-8c3a-00d861dd19c7',\n",
       " 'cbe71f0a-1a61-11ee-bab0-00d861dd19c7',\n",
       " 'cbe71f0b-1a61-11ee-a452-00d861dd19c7',\n",
       " 'cbe71f0c-1a61-11ee-8e30-00d861dd19c7',\n",
       " 'cbe71f0d-1a61-11ee-8f45-00d861dd19c7',\n",
       " 'cbe71f0e-1a61-11ee-b36a-00d861dd19c7',\n",
       " 'cbe71f0f-1a61-11ee-bdec-00d861dd19c7',\n",
       " 'cbe71f10-1a61-11ee-891e-00d861dd19c7',\n",
       " 'cbe71f11-1a61-11ee-b367-00d861dd19c7',\n",
       " 'cbe71f12-1a61-11ee-a2c0-00d861dd19c7',\n",
       " 'cbe71f13-1a61-11ee-9cab-00d861dd19c7',\n",
       " 'cbe71f14-1a61-11ee-85d6-00d861dd19c7',\n",
       " 'cbe71f15-1a61-11ee-8526-00d861dd19c7',\n",
       " 'cbe71f16-1a61-11ee-bf90-00d861dd19c7',\n",
       " 'cbe71f17-1a61-11ee-947b-00d861dd19c7',\n",
       " 'cbe71f18-1a61-11ee-b801-00d861dd19c7',\n",
       " 'cbe71f19-1a61-11ee-a082-00d861dd19c7',\n",
       " 'cbe71f1a-1a61-11ee-bfde-00d861dd19c7',\n",
       " 'cbe71f1b-1a61-11ee-bbb3-00d861dd19c7',\n",
       " 'cbe71f1c-1a61-11ee-9f50-00d861dd19c7',\n",
       " 'cbe71f1d-1a61-11ee-86fa-00d861dd19c7',\n",
       " 'cbe71f1e-1a61-11ee-934a-00d861dd19c7',\n",
       " 'cbe71f1f-1a61-11ee-a347-00d861dd19c7',\n",
       " 'cbe71f20-1a61-11ee-92a1-00d861dd19c7',\n",
       " 'cbe71f21-1a61-11ee-ad38-00d861dd19c7',\n",
       " 'cbe71f22-1a61-11ee-87fc-00d861dd19c7',\n",
       " 'cbe71f23-1a61-11ee-a309-00d861dd19c7',\n",
       " 'cbe71f24-1a61-11ee-954b-00d861dd19c7',\n",
       " 'cbe71f25-1a61-11ee-b420-00d861dd19c7',\n",
       " 'cbe71f26-1a61-11ee-bb06-00d861dd19c7',\n",
       " 'cbe71f27-1a61-11ee-a294-00d861dd19c7',\n",
       " 'cbe71f28-1a61-11ee-8d01-00d861dd19c7']"
      ]
     },
     "execution_count": 7,
     "metadata": {},
     "output_type": "execute_result"
    }
   ],
   "source": [
    "embeddings = OpenAIEmbeddings(model=\"text-embedding-ada-002\")\n",
    "# create Deep Lake dataset\n",
    "\n",
    "my_activeloop_org_id = credentials.active_loop_org_id\n",
    "my_activeloop_dataset_name = \"customer_support\"\n",
    "dataset_path = f\"hub://{my_activeloop_org_id}/{my_activeloop_dataset_name}\"\n",
    "db = DeepLake(dataset_path=dataset_path, embedding_function=embeddings)\n",
    "\n",
    "# add documents to our Deep Lake dataset\n",
    "db.add_documents(docs)"
   ]
  },
  {
   "cell_type": "code",
   "execution_count": 8,
   "metadata": {},
   "outputs": [
    {
     "name": "stdout",
     "output_type": "stream",
     "text": [
      "Home  Tech  How to Check Disk Usage in Linux (4 Methods)\n",
      "\n",
      "How to Check Disk Usage in Linux (4 Methods)\n",
      "\n",
      "Beebom Staff\n",
      "\n",
      "Last Updated: June 19, 2023 5:14 pm\n",
      "\n",
      "There may be times when you need to download some important files or transfer some photos to your Linux system, but face a problem of insufficient disk space. You head over to your file manager to delete the large files which you no longer require, but you have no clue which of them are occupying most of your disk space. In this article, we will show some easy methods to check disk usage in Linux from both the terminal and the GUI application.\n",
      "\n",
      "Monitor Disk Usage in Linux (2023)\n",
      "\n",
      "Table of Contents\n",
      "\n",
      "Check Disk Space Using the df Command\n",
      "\t\t\n",
      "Display Disk Usage in Human Readable FormatDisplay Disk Occupancy of a Particular Type\n",
      "\n",
      "Check Disk Usage using the du Command\n",
      "\t\t\n",
      "Display Disk Usage in Human Readable FormatDisplay Disk Usage for a Particular DirectoryCompare Disk Usage of Two Directories\n"
     ]
    }
   ],
   "source": [
    "# let's see the top relevant documents to a specific query\n",
    "query = \"how to check disk usage in linux?\"\n",
    "docs = db.similarity_search(query)\n",
    "print(docs[0].page_content)"
   ]
  },
  {
   "cell_type": "markdown",
   "metadata": {},
   "source": [
    "### Using prompts to enhance the answer"
   ]
  },
  {
   "cell_type": "code",
   "execution_count": 9,
   "metadata": {},
   "outputs": [],
   "source": [
    "# let's write a prompt for a customer support chatbot that\n",
    "# answer questions using information extracted from our db\n",
    "template = \"\"\"You are an exceptional customer support chatbot that gently answer questions.\n",
    "\n",
    "You know the following context information.\n",
    "\n",
    "{chunks_formatted}\n",
    "\n",
    "Answer to the following question from a customer. Use only information from the previous context information. Do not invent stuff.\n",
    "\n",
    "Question: {query}\n",
    "\n",
    "Answer:\"\"\"\n",
    "\n",
    "prompt = PromptTemplate(\n",
    "    input_variables=[\"chunks_formatted\", \"query\"],\n",
    "    template=template,\n",
    ")"
   ]
  },
  {
   "cell_type": "code",
   "execution_count": 10,
   "metadata": {},
   "outputs": [
    {
     "name": "stdout",
     "output_type": "stream",
     "text": [
      " You can check disk usage in Linux using the df command or by using a GUI tool such as the GDU Disk Usage Analyzer or the Gnome Disks Tool. The df command is used to check the current disk usage and the available disk space in Linux. The syntax for the df command is: df <options> <file_system>. The options to use with the df command are: a, h, t, and x. To install the GDU Disk Usage Analyzer, use the command: sudo snap install gdu-disk-usage-analyzer. To install the Gnome Disks Tool, use the command: sudo apt-get -y install gnome-disk-utility.\n"
     ]
    }
   ],
   "source": [
    "# the full pipeline\n",
    "\n",
    "# user question\n",
    "query = \"How to check disk usage in linux?\"\n",
    "\n",
    "# retrieve relevant chunks\n",
    "docs = db.similarity_search(query)\n",
    "retrieved_chunks = [doc.page_content for doc in docs]\n",
    "\n",
    "# format the prompt\n",
    "chunks_formatted = \"\\n\\n\".join(retrieved_chunks)\n",
    "prompt_formatted = prompt.format(chunks_formatted=chunks_formatted, query=query)\n",
    "\n",
    "# generate answer\n",
    "llm = OpenAI(model=\"text-davinci-003\", temperature=0)\n",
    "answer = llm(prompt_formatted)\n",
    "print(answer)"
   ]
  },
  {
   "cell_type": "code",
   "execution_count": null,
   "metadata": {},
   "outputs": [],
   "source": []
  }
 ],
 "metadata": {
  "kernelspec": {
   "display_name": "deeplakelangchain",
   "language": "python",
   "name": "python3"
  },
  "language_info": {
   "codemirror_mode": {
    "name": "ipython",
    "version": 3
   },
   "file_extension": ".py",
   "mimetype": "text/x-python",
   "name": "python",
   "nbconvert_exporter": "python",
   "pygments_lexer": "ipython3",
   "version": "3.10.11"
  },
  "orig_nbformat": 4
 },
 "nbformat": 4,
 "nbformat_minor": 2
}
