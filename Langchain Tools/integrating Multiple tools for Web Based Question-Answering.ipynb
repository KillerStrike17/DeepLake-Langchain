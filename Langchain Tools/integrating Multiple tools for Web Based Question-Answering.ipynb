{
 "cells": [
  {
   "cell_type": "code",
   "execution_count": 1,
   "metadata": {},
   "outputs": [],
   "source": [
    "import os\n",
    "import os, sys\n",
    "sys.path.insert(1, 'D:\\Github\\DeepLake-Langchain')\n",
    "import credentials\n",
    "os.environ[\"OPENAI_API_KEY\"] = credentials.openai\n",
    "os.environ[\"GOOGLE_API_KEY\"] = credentials.google_api_key\n",
    "os.environ[\"GOOGLE_CSE_ID\"] = credentials.google_search_key"
   ]
  },
  {
   "cell_type": "code",
   "execution_count": 2,
   "metadata": {},
   "outputs": [],
   "source": [
    "from langchain.llms import OpenAI\n",
    "from langchain.agents import Tool, initialize_agent, AgentType\n",
    "\n",
    "from langchain.utilities import GoogleSearchAPIWrapper, PythonREPL"
   ]
  },
  {
   "cell_type": "code",
   "execution_count": 3,
   "metadata": {},
   "outputs": [],
   "source": [
    "search = GoogleSearchAPIWrapper()\n",
    "python_repl = PythonREPL()"
   ]
  },
  {
   "cell_type": "code",
   "execution_count": 4,
   "metadata": {},
   "outputs": [],
   "source": [
    "llm = OpenAI(model=\"text-davinci-003\", temperature=0)"
   ]
  },
  {
   "cell_type": "code",
   "execution_count": 5,
   "metadata": {},
   "outputs": [],
   "source": [
    "toolkit = [\n",
    "    Tool(\n",
    "        name=\"google-search\",\n",
    "        func=search.run,\n",
    "        description=\"useful for when you need to search Google to answer questions about current events\"\n",
    "    ),\n",
    "    Tool(\n",
    "        name=\"python_repl\",\n",
    "        description=\"A Python shell. Use this to execute Python commands. Input should be a valid Python command. Useful for saving strings to files.\",\n",
    "        func=python_repl.run\n",
    "    )\n",
    "]"
   ]
  },
  {
   "cell_type": "code",
   "execution_count": 6,
   "metadata": {},
   "outputs": [],
   "source": [
    "agent = initialize_agent(\n",
    "\ttoolkit,\n",
    "\tllm,\n",
    "\tagent=AgentType.ZERO_SHOT_REACT_DESCRIPTION,\n",
    "\tverbose=True\n",
    ")"
   ]
  },
  {
   "cell_type": "code",
   "execution_count": 7,
   "metadata": {},
   "outputs": [
    {
     "name": "stdout",
     "output_type": "stream",
     "text": [
      "\n",
      "\n",
      "\u001b[1m> Entering new  chain...\u001b[0m\n",
      "\u001b[32;1m\u001b[1;3m I need to search for the birth date of Napoleon Bonaparte.\n",
      "Action: google-search\n",
      "Action Input: \"Napoleon Bonaparte birth date\"\u001b[0m\n",
      "Observation: \u001b[36;1m\u001b[1;3mNapoleon Bonaparte (born Napoleone Buonaparte; 15 August 1769 – 5 May 1821), later known by his regnal name Napoleon I, was a French military commander and ... Nov 9, 2009 ... Napoleon Bonaparte was born on August 15, 1769, in Ajaccio, on the Mediterranean island of Corsica. He was the second of eight surviving ... Napoleone Buonaparte was born in Ajaccio, Corsica, on 15 August 1769. He was the second of eight children born to Carlo Buonaparte, a lawyer descended from ... Jul 3, 2023 ... Napoleon I, French in full Napoléon Bonaparte, original Italian Napoleone Buonaparte, byname the Corsican or the Little Corporal, ... Napoleon Bonaparte was born on August 15, 1769. He was most notably known as a French military and political leader, who became prominent during the French ... In 1764, Charles-Marie Bonaparte wed the young Letizia Ramolino and settled with her in the Bonaparte family residence. Napoleon was born there on August 15 ... Other Resources · Napoleon Bonaparte Charlton, birth date 5/13/1815, death date 6/17/1896, burial in Hopewell Cemetery, Woodville, Tyler County. No grave marker ... Furthermore, Charles Bonaparte's “journal” notes the birth on 15 August 1769. It is true that Napoleon very occasionally used the papers of his brother ... Napoleon Bonaparte was born the 15th of August, 1769 on Corsica, just three months after the island had been defeated by the French. Jun 23, 2002 ... Napoleon Bonaparte was born at Ajaccio, Corsica, ... importance of Napoleon the individual argued about his origins and his date of birth.\u001b[0m\n",
      "Thought:\u001b[32;1m\u001b[1;3m I have the birth date of Napoleon Bonaparte.\n",
      "Action: python_repl\n",
      "Action Input: f = open(\"final.txt\", \"w\") f.write(\"Napoleon Bonaparte was born on August 15, 1769\") f.close()\u001b[0m\n",
      "Observation: \u001b[33;1m\u001b[1;3mSyntaxError('invalid syntax', ('<string>', 1, 28, 'f = open(\"final.txt\", \"w\") f.write(\"Napoleon Bonaparte was born on August 15, 1769\") f.close()\\n', 1, 29))\u001b[0m\n",
      "Thought:\u001b[32;1m\u001b[1;3m I need to use the correct syntax to save the string to a file.\n",
      "Action: python_repl\n",
      "Action Input: with open(\"final.txt\", \"w\") as f: f.write(\"Napoleon Bonaparte was born on August 15, 1769\")\u001b[0m\n",
      "Observation: \u001b[33;1m\u001b[1;3m\u001b[0m\n",
      "Thought:"
     ]
    },
    {
     "name": "stderr",
     "output_type": "stream",
     "text": [
      "Retrying langchain.llms.openai.completion_with_retry.<locals>._completion_with_retry in 4.0 seconds as it raised RateLimitError: Rate limit reached for default-text-davinci-003 in organization org-gHQJ1WmbtrejM3Byo6KJyQPD on requests per min. Limit: 3 / min. Please try again in 20s. Contact us through our help center at help.openai.com if you continue to have issues. Please add a payment method to your account to increase your rate limit. Visit https://platform.openai.com/account/billing to add a payment method..\n",
      "Retrying langchain.llms.openai.completion_with_retry.<locals>._completion_with_retry in 4.0 seconds as it raised RateLimitError: Rate limit reached for default-text-davinci-003 in organization org-gHQJ1WmbtrejM3Byo6KJyQPD on requests per min. Limit: 3 / min. Please try again in 20s. Contact us through our help center at help.openai.com if you continue to have issues. Please add a payment method to your account to increase your rate limit. Visit https://platform.openai.com/account/billing to add a payment method..\n",
      "Retrying langchain.llms.openai.completion_with_retry.<locals>._completion_with_retry in 4.0 seconds as it raised RateLimitError: Rate limit reached for default-text-davinci-003 in organization org-gHQJ1WmbtrejM3Byo6KJyQPD on requests per min. Limit: 3 / min. Please try again in 20s. Contact us through our help center at help.openai.com if you continue to have issues. Please add a payment method to your account to increase your rate limit. Visit https://platform.openai.com/account/billing to add a payment method..\n"
     ]
    },
    {
     "name": "stdout",
     "output_type": "stream",
     "text": [
      "\u001b[32;1m\u001b[1;3m I now know the final answer.\n",
      "Final Answer: Napoleon Bonaparte was born on August 15, 1769.\u001b[0m\n",
      "\n",
      "\u001b[1m> Finished chain.\u001b[0m\n"
     ]
    },
    {
     "data": {
      "text/plain": [
       "'Napoleon Bonaparte was born on August 15, 1769.'"
      ]
     },
     "execution_count": 7,
     "metadata": {},
     "output_type": "execute_result"
    }
   ],
   "source": [
    "agent.run(\"Find the birth date of Napoleon Bonaparte and save it to a file 'final.txt'.\")"
   ]
  },
  {
   "cell_type": "code",
   "execution_count": 8,
   "metadata": {},
   "outputs": [
    {
     "name": "stdout",
     "output_type": "stream",
     "text": [
      "\n",
      "\n",
      "\u001b[1m> Entering new  chain...\u001b[0m\n",
      "\u001b[32;1m\u001b[1;3m I need to find the date of Napoleon's death and then save it to a file.\n",
      "Action: google-search\n",
      "Action Input: \"When did Napoleon Bonaparte die?\"\u001b[0m\n",
      "Observation: \u001b[36;1m\u001b[1;3mNapoleon Bonaparte later known by his regnal name Napoleon I, was a French military commander and political leader who rose to prominence during the French ... Aug 15, 2022 ... Napoleon was only 51 when he died on the island of St. Helena, where he was out of power and exiled from his beloved France. By May 5, 1821, ... Nov 9, 2009 ... In October 1815, Napoleon was exiled to the remote, British-held island of Saint Helena, in the South Atlantic Ocean. He died there on May 5, ... Apr 25, 2014 ... Napoleon Bonaparte died at 5.49pm on 5 May 1821, at Longwood on the island of Saint Helena. An autopsy was carried out on 6 May; ... Jan 17, 2007 ... His personal physician reported on his death certificate that Napoleon died of stomach cancer, but scientists, historians and enthusiasts have ... Jan 21, 2014 ... Napoleon himself fueled suspicion, writing in his will a mere three weeks before his demise at age 51, “I die before my time, ... May 4, 2000 ... While the English have always maintained that Napoleon died of cancer in 1821 while imprisoned on the island of St Helena, French senators ... May 22, 2023 ... Also known as: Charles-Louis-Napoléon Bonaparte, Louis-Napoléon ... How long did Napoleon III rule France? ... How did Napoleon III die? Jan 20, 2003 ... For decades, French schoolchildren have been taught that Napoleon Bonaparte died in exile in 1821 from poisoning. Jul 3, 2023 ... Also known as: Le Corse, Le Petit Caporal, Napoléon Bonaparte, Napoleone Buonaparte, ... How did Napoleon become emperor of France?\u001b[0m\n",
      "Thought:"
     ]
    },
    {
     "name": "stderr",
     "output_type": "stream",
     "text": [
      "Retrying langchain.llms.openai.completion_with_retry.<locals>._completion_with_retry in 4.0 seconds as it raised RateLimitError: Rate limit reached for default-text-davinci-003 in organization org-gHQJ1WmbtrejM3Byo6KJyQPD on requests per min. Limit: 3 / min. Please try again in 20s. Contact us through our help center at help.openai.com if you continue to have issues. Please add a payment method to your account to increase your rate limit. Visit https://platform.openai.com/account/billing to add a payment method..\n",
      "Retrying langchain.llms.openai.completion_with_retry.<locals>._completion_with_retry in 4.0 seconds as it raised RateLimitError: Rate limit reached for default-text-davinci-003 in organization org-gHQJ1WmbtrejM3Byo6KJyQPD on requests per min. Limit: 3 / min. Please try again in 20s. Contact us through our help center at help.openai.com if you continue to have issues. Please add a payment method to your account to increase your rate limit. Visit https://platform.openai.com/account/billing to add a payment method..\n"
     ]
    },
    {
     "name": "stdout",
     "output_type": "stream",
     "text": [
      "\u001b[32;1m\u001b[1;3m I have the date of Napoleon's death.\n",
      "Action: python_repl\n",
      "Action Input: with open('answer.txt', 'a') as f: f.write('Napoleon Bonaparte died on May 5, 1821.')\u001b[0m\n",
      "Observation: \u001b[33;1m\u001b[1;3m\u001b[0m\n",
      "Thought:"
     ]
    },
    {
     "name": "stderr",
     "output_type": "stream",
     "text": [
      "Retrying langchain.llms.openai.completion_with_retry.<locals>._completion_with_retry in 4.0 seconds as it raised RateLimitError: Rate limit reached for default-text-davinci-003 in organization org-gHQJ1WmbtrejM3Byo6KJyQPD on requests per min. Limit: 3 / min. Please try again in 20s. Contact us through our help center at help.openai.com if you continue to have issues. Please add a payment method to your account to increase your rate limit. Visit https://platform.openai.com/account/billing to add a payment method..\n",
      "Retrying langchain.llms.openai.completion_with_retry.<locals>._completion_with_retry in 4.0 seconds as it raised RateLimitError: Rate limit reached for default-text-davinci-003 in organization org-gHQJ1WmbtrejM3Byo6KJyQPD on requests per min. Limit: 3 / min. Please try again in 20s. Contact us through our help center at help.openai.com if you continue to have issues. Please add a payment method to your account to increase your rate limit. Visit https://platform.openai.com/account/billing to add a payment method..\n",
      "Retrying langchain.llms.openai.completion_with_retry.<locals>._completion_with_retry in 4.0 seconds as it raised RateLimitError: Rate limit reached for default-text-davinci-003 in organization org-gHQJ1WmbtrejM3Byo6KJyQPD on requests per min. Limit: 3 / min. Please try again in 20s. Contact us through our help center at help.openai.com if you continue to have issues. Please add a payment method to your account to increase your rate limit. Visit https://platform.openai.com/account/billing to add a payment method..\n"
     ]
    },
    {
     "name": "stdout",
     "output_type": "stream",
     "text": [
      "\u001b[32;1m\u001b[1;3m I now know the final answer.\n",
      "Final Answer: Napoleon Bonaparte died on May 5, 1821.\u001b[0m\n",
      "\n",
      "\u001b[1m> Finished chain.\u001b[0m\n"
     ]
    },
    {
     "data": {
      "text/plain": [
       "'Napoleon Bonaparte died on May 5, 1821.'"
      ]
     },
     "execution_count": 8,
     "metadata": {},
     "output_type": "execute_result"
    }
   ],
   "source": [
    "query = \"Find when Napoleon Bonaparte died and append this information \" \\\n",
    "    \"to the content of the 'answer.txt' file in a new line.\"\n",
    "\n",
    "agent.run(query)"
   ]
  },
  {
   "cell_type": "code",
   "execution_count": null,
   "metadata": {},
   "outputs": [],
   "source": []
  }
 ],
 "metadata": {
  "kernelspec": {
   "display_name": "deeplakelangchain",
   "language": "python",
   "name": "python3"
  },
  "language_info": {
   "codemirror_mode": {
    "name": "ipython",
    "version": 3
   },
   "file_extension": ".py",
   "mimetype": "text/x-python",
   "name": "python",
   "nbconvert_exporter": "python",
   "pygments_lexer": "ipython3",
   "version": "3.10.11"
  },
  "orig_nbformat": 4
 },
 "nbformat": 4,
 "nbformat_minor": 2
}
