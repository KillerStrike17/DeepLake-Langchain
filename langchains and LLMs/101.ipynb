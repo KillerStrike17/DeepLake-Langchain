{
 "cells": [
  {
   "cell_type": "code",
   "execution_count": 4,
   "metadata": {},
   "outputs": [],
   "source": [
    "from langchain.llms import OpenAI\n",
    "import sys\n",
    "sys.path.insert(1,'D:\\Github\\DeepLake-Langchain')\n",
    "import credentials\n",
    "OPENAI_API_KEY = credentials.openai"
   ]
  },
  {
   "cell_type": "code",
   "execution_count": 10,
   "metadata": {},
   "outputs": [],
   "source": [
    "# Before executing the following code, make sure to have\n",
    "# your OpenAI key saved in the “OPENAI_API_KEY” environment variable.\n",
    "llm = OpenAI(model=\"text-davinci-003\", temperature=0.9, openai_api_key=OPENAI_API_KEY)"
   ]
  },
  {
   "cell_type": "code",
   "execution_count": 11,
   "metadata": {},
   "outputs": [
    {
     "name": "stdout",
     "output_type": "stream",
     "text": [
      "\n",
      "\n",
      "1. Start off with a 15-minute jog.\n",
      "2. Follow up with a 30 minute interval training session, consisting of 30 seconds of sprinting followed by 30 seconds of walking for a total of 15 minutes.\n",
      "3. Next, do a set of 15 burpees.\n",
      "4. Cool down with a 10 minute walk in nature.\n",
      "5. Finish your routine with some stretching.\n",
      "\n",
      "Repeat this routine 2-3 times a week to improve your cardiovascular endurance. Outdoor activities such as running and walking are excellent for cardiovascular health. However, make sure to choose routes with minimal to no traffic for safety.\n"
     ]
    }
   ],
   "source": [
    "text = \"Suggest a personalized workout routine for someone looking to improve cardiovascular endurance and prefers outdoor activities.\"\n",
    "print(llm(text))"
   ]
  }
 ],
 "metadata": {
  "kernelspec": {
   "display_name": "deeplakelangchain",
   "language": "python",
   "name": "python3"
  },
  "language_info": {
   "codemirror_mode": {
    "name": "ipython",
    "version": 3
   },
   "file_extension": ".py",
   "mimetype": "text/x-python",
   "name": "python",
   "nbconvert_exporter": "python",
   "pygments_lexer": "ipython3",
   "version": "3.10.11"
  },
  "orig_nbformat": 4
 },
 "nbformat": 4,
 "nbformat_minor": 2
}
