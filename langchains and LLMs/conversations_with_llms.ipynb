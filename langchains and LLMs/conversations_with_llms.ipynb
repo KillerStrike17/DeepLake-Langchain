{
 "cells": [
  {
   "cell_type": "code",
   "execution_count": 10,
   "metadata": {},
   "outputs": [],
   "source": [
    "from langchain.schema import HumanMessage, AIMessage, SystemMessage\n",
    "from langchain.chat_models import ChatOpenAI\n",
    "import os, sys\n",
    "sys.path.insert(1, 'D:\\Github\\DeepLake-Langchain')\n",
    "import credentials\n",
    "os.environ[\"OPENAI_API_KEY\"] = credentials.openai"
   ]
  },
  {
   "cell_type": "code",
   "execution_count": 11,
   "metadata": {},
   "outputs": [],
   "source": [
    "messages = [\n",
    "    SystemMessage(content =\"You are a helpful assistant\"),\n",
    "    HumanMessage(content=\"What is the capital of France?\"),\n",
    "    AIMessage(content=\"The capital of France is Paris.\")\n",
    "]"
   ]
  },
  {
   "cell_type": "code",
   "execution_count": 12,
   "metadata": {},
   "outputs": [
    {
     "data": {
      "text/plain": [
       "[SystemMessage(content='You are a helpful assistant', additional_kwargs={}),\n",
       " HumanMessage(content='What is the capital of France?', additional_kwargs={}, example=False),\n",
       " AIMessage(content='The capital of France is Paris.', additional_kwargs={}, example=False),\n",
       " HumanMessage(content=\"I'd like to know more about the city you just mentioned\", additional_kwargs={}, example=False)]"
      ]
     },
     "execution_count": 12,
     "metadata": {},
     "output_type": "execute_result"
    }
   ],
   "source": [
    "prompt = HumanMessage(content=\"I'd like to know more about the city you just mentioned\")\n",
    "\n",
    "messages.append(prompt)\n",
    "messages"
   ]
  },
  {
   "cell_type": "code",
   "execution_count": 13,
   "metadata": {},
   "outputs": [
    {
     "data": {
      "text/plain": [
       "AIMessage(content=\"Paris is the capital and largest city of France. It is located in the north-central part of the country, on the Seine River. Paris is known for its rich history, stunning architecture, world-class museums, and vibrant culture.\\n\\nThe city is famous for iconic landmarks such as the Eiffel Tower, Notre-Dame Cathedral, Louvre Museum, and Champs-Élysées. The Eiffel Tower, standing at 330 meters tall, offers breathtaking views of the city. Notre-Dame Cathedral is a masterpiece of Gothic architecture and is known for its stunning stained glass windows. The Louvre Museum is the world's largest art museum and is home to thousands of works of art, including the famous painting, the Mona Lisa.\\n\\nParis is also renowned for its cuisine, fashion, and shopping. The city is known for its cafes, where you can enjoy a cup of coffee or indulge in delicious pastries like croissants and macarons. Paris is a fashion capital, with famous designers and luxury brands showcasing their latest collections. The city is also home to numerous shopping districts, including the famous Avenue des Champs-Élysées, where you can find a wide range of shops and boutiques.\\n\\nParis has a vibrant cultural scene, with numerous theaters, music venues, and art galleries. The city hosts various festivals and events throughout the year, including fashion shows, music festivals, and art exhibitions. Paris is also known for its romantic ambiance, making it a popular destination for couples and honeymooners.\\n\\nOverall, Paris is a city that offers a unique blend of history, art, culture, and culinary delights, making it a must-visit destination for travelers from around the world.\", additional_kwargs={}, example=False)"
      ]
     },
     "execution_count": 13,
     "metadata": {},
     "output_type": "execute_result"
    }
   ],
   "source": [
    "llm = ChatOpenAI(temperature=0,model='gpt-3.5-turbo')\n",
    "response = llm(messages=messages)\n",
    "response"
   ]
  },
  {
   "cell_type": "code",
   "execution_count": null,
   "metadata": {},
   "outputs": [],
   "source": []
  }
 ],
 "metadata": {
  "kernelspec": {
   "display_name": "deeplakelangchain",
   "language": "python",
   "name": "python3"
  },
  "language_info": {
   "codemirror_mode": {
    "name": "ipython",
    "version": 3
   },
   "file_extension": ".py",
   "mimetype": "text/x-python",
   "name": "python",
   "nbconvert_exporter": "python",
   "pygments_lexer": "ipython3",
   "version": "3.10.11"
  },
  "orig_nbformat": 4
 },
 "nbformat": 4,
 "nbformat_minor": 2
}
