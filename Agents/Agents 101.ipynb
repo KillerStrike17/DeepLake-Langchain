{
 "cells": [
  {
   "cell_type": "code",
   "execution_count": 1,
   "metadata": {},
   "outputs": [],
   "source": [
    "import os, sys\n",
    "sys.path.insert(1, 'D:\\Github\\DeepLake-Langchain')\n",
    "import credentials\n",
    "os.environ[\"OPENAI_API_KEY\"] = credentials.openai\n",
    "os.environ[\"GOOGLE_API_KEY\"] = credentials.google_api_key\n",
    "os.environ[\"GOOGLE_CSE_ID\"] = credentials.google_search_key"
   ]
  },
  {
   "cell_type": "code",
   "execution_count": 2,
   "metadata": {},
   "outputs": [
    {
     "name": "stdout",
     "output_type": "stream",
     "text": [
      "\n",
      "\n",
      "\u001b[1m> Entering new  chain...\u001b[0m\n",
      "\u001b[32;1m\u001b[1;3m I need to find out the number of goals scored in the 2018 soccer world cup\n",
      "Action: google_search\n",
      "Action Input: number of goals scored in the 2018 soccer world cup\u001b[0m\n",
      "Observation: \u001b[36;1m\u001b[1;3mJan 13, 2023 ... FIFA World Cup: goals per tournament 1930-2022 ... A total of 172 goals were scored during the 2022 World Cup in Qatar, marking a new record for ... Jan 31, 2020 ... A total of 169 goals were scored at the group and knockout stages of the FIFA World Cup held in Russia from the 14th of June to the 15th of July ... Jan 13, 2023 ... This number can be attributed to some unusually high-scoring games, which included Austria 7 Switzerland 5 and Hungary 9 South Korea 0. The ... Number of goals scored in the matches played between the teams in question;; Fair play points in all group matches (only one deduction could be applied to a ... 2018 FIFA World Cup Russia™. Back to FIFA+ · Match Centre · Teams. France. Winner. 7. Matches played. 14. Goals. 1.7. Goal Average. 12. Yellow Cards ... Dec 18, 2022 ... Antoine Griezmann finished second in goals scored at the 2018 World Cup. Mbappe is also just the fifth man to score in multiple World Cup finals ... 0 · Luka MODRIC · Players · Top Scorers. Check out the top scorers list of World Cup 2018 with Golden Boot prediction. Get highest or most goal scorer player in 2018 FIFA World Cup. 2018 FIFA World Cup Russia™ Jul 16, 2018 ... Several records tumbled in Russia, as 32 teams provided a month-long spectacle. Here are the best numbers from the 2018 FIFA World Cup.\u001b[0m\n",
      "Thought:\u001b[32;1m\u001b[1;3m I now know the final answer\n",
      "Final Answer: 1000 + 172 = 1172\u001b[0m\n",
      "\n",
      "\u001b[1m> Finished chain.\u001b[0m\n",
      "1000 + 172 = 1172\n"
     ]
    }
   ],
   "source": [
    "# Importing necessary modules\n",
    "from langchain.agents import load_tools, initialize_agent\n",
    "from langchain.agents import AgentType\n",
    "from langchain.llms import OpenAI\n",
    "\n",
    "# Loading the language model to control the agent\n",
    "llm = OpenAI(model=\"text-davinci-003\", temperature=0)\n",
    "\n",
    "# Loading some tools to use. The llm-math tool uses an LLM, so we pass that in.\n",
    "tools = load_tools([\"google-search\", \"llm-math\"], llm=llm)\n",
    "\n",
    "# Initializing an agent with the tools, the language model, and the type of agent we want to use.\n",
    "agent = initialize_agent(tools, llm, agent=AgentType.ZERO_SHOT_REACT_DESCRIPTION, verbose=True)\n",
    "\n",
    "# Testing the agent\n",
    "query = \"What's the result of 1000 plus the number of goals scored in the soccer world cup in 2018?\"\n",
    "response = agent.run(query)\n",
    "print(response)"
   ]
  },
  {
   "cell_type": "code",
   "execution_count": 3,
   "metadata": {},
   "outputs": [
    {
     "name": "stdout",
     "output_type": "stream",
     "text": [
      "\n",
      "\n",
      "\u001b[1m> Entering new  chain...\u001b[0m\n",
      "\u001b[32;1m\u001b[1;3m I should use a tool to help me generate a story\n",
      "Action: Science Fiction Writer\n",
      "Action Input: Generate a story about interstellar explorers\u001b[0m\n",
      "Observation: \u001b[36;1m\u001b[1;3m.\n",
      "\n",
      "The year was 2120 and the human race had finally achieved interstellar travel. After decades of research and development, a team of brave explorers had been assembled to embark on a mission to explore the unknown reaches of the universe.\n",
      "\n",
      "The team was led by Captain John Smith, a veteran of many space missions. He was joined by a diverse group of scientists, engineers, and adventurers, all eager to explore the unknown.\n",
      "\n",
      "The team's first destination was a distant star system known as Alpha Centauri. After months of travel, they arrived at the system and began to explore the planets and moons in the vicinity.\n",
      "\n",
      "On one of the moons, they discovered an ancient alien civilization that had been long forgotten. The team was amazed to find that the aliens had left behind a wealth of technology and knowledge.\n",
      "\n",
      "The team spent months studying the alien technology and learning about the culture of the aliens. They also discovered a powerful energy source that could be used to power their ship and fuel their journey.\n",
      "\n",
      "With the newfound knowledge and technology, the team was able to make incredible advances in their exploration of the universe. They visited many strange and wonderful places, and encountered many strange and wonderful creatures.\n",
      "\n",
      "The team's journey was a success, and they\u001b[0m\n",
      "Thought:\u001b[32;1m\u001b[1;3m I now know the final answer\n",
      "Final Answer: The team's journey was a success, and they returned home with a wealth of knowledge and technology that would help humanity explore the universe for generations to come.\u001b[0m\n",
      "\n",
      "\u001b[1m> Finished chain.\u001b[0m\n",
      "The team's journey was a success, and they returned home with a wealth of knowledge and technology that would help humanity explore the universe for generations to come.\n"
     ]
    }
   ],
   "source": [
    "# Importing necessary modules\n",
    "from langchain.agents import initialize_agent, AgentType\n",
    "from langchain.llms import OpenAI\n",
    "from langchain.agents import Tool\n",
    "from langchain.prompts import PromptTemplate\n",
    "from langchain.chains import LLMChain\n",
    "\n",
    "prompt = PromptTemplate(\n",
    "    input_variables=[\"query\"],\n",
    "    template=\"You're a renowned science fiction writer. {query}\"\n",
    ")\n",
    "\n",
    "# Initialize the language model\n",
    "llm = OpenAI(model=\"text-davinci-003\", temperature=0)\n",
    "llm_chain = LLMChain(llm=llm, prompt=prompt)\n",
    "\n",
    "tools = [\n",
    "    Tool(\n",
    "        name='Science Fiction Writer',\n",
    "        func=llm_chain.run,\n",
    "        description='Use this tool for generating science fiction stories. Input should be a command about generating specific types of stories.'\n",
    "    )\n",
    "]\n",
    "\n",
    "# Initializing an agent with the tools, the language model, and the type of agent we want to use.\n",
    "agent = initialize_agent(tools, llm, agent=AgentType.ZERO_SHOT_REACT_DESCRIPTION, verbose=True)\n",
    "\n",
    "# Testing the agent with the new prompt\n",
    "response = agent.run(\"Compose an epic science fiction saga about interstellar explorers\")\n",
    "print(response)"
   ]
  },
  {
   "cell_type": "code",
   "execution_count": null,
   "metadata": {},
   "outputs": [],
   "source": []
  }
 ],
 "metadata": {
  "kernelspec": {
   "display_name": "deeplakelangchain",
   "language": "python",
   "name": "python3"
  },
  "language_info": {
   "codemirror_mode": {
    "name": "ipython",
    "version": 3
   },
   "file_extension": ".py",
   "mimetype": "text/x-python",
   "name": "python",
   "nbconvert_exporter": "python",
   "pygments_lexer": "ipython3",
   "version": "3.10.11"
  },
  "orig_nbformat": 4
 },
 "nbformat": 4,
 "nbformat_minor": 2
}
