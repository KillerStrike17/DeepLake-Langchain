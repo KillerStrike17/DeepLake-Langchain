{
 "cells": [
  {
   "cell_type": "code",
   "execution_count": 1,
   "metadata": {},
   "outputs": [],
   "source": [
    "import sys\n",
    "sys.path.insert(1,'D:\\Github\\DeepLake-Langchain')\n",
    "import credentials\n",
    "import os\n",
    "os.environ[\"OPENAI_API_KEY\"] = credentials.openai"
   ]
  },
  {
   "cell_type": "code",
   "execution_count": 10,
   "metadata": {},
   "outputs": [
    {
     "data": {
      "text/plain": [
       "{'word': 'artificial', 'text': '\\n\\nsynthetic'}"
      ]
     },
     "execution_count": 10,
     "metadata": {},
     "output_type": "execute_result"
    }
   ],
   "source": [
    "from langchain import PromptTemplate, OpenAI, LLMChain\n",
    "\n",
    "prompt_template = \"what is the word to replace the following: {word}\"\n",
    "\n",
    "llm = OpenAI(model = \"text-davinci-003\",temperature=0.0)\n",
    "\n",
    "llm_chain = LLMChain(\n",
    "    llm = llm,\n",
    "    prompt=PromptTemplate.from_template(prompt_template)\n",
    ")\n",
    "\n",
    "llm_chain(\"artificial\")"
   ]
  },
  {
   "cell_type": "code",
   "execution_count": 11,
   "metadata": {},
   "outputs": [
    {
     "data": {
      "text/plain": [
       "[{'text': '\\n\\nsynthetic'}, {'text': '\\n\\nWisdom'}, {'text': '\\n\\nautomaton'}]"
      ]
     },
     "execution_count": 11,
     "metadata": {},
     "output_type": "execute_result"
    }
   ],
   "source": [
    "input_list = [\n",
    "    {\"word\":\"artificial\"},\n",
    "    {\"word\":\"intelligence\"},\n",
    "    {\"word\":\"robot\"}\n",
    "]\n",
    "\n",
    "llm_chain.apply(input_list)"
   ]
  },
  {
   "cell_type": "code",
   "execution_count": 12,
   "metadata": {},
   "outputs": [
    {
     "data": {
      "text/plain": [
       "LLMResult(generations=[[Generation(text='\\n\\nsynthetic', generation_info={'finish_reason': 'stop', 'logprobs': None})], [Generation(text='\\n\\nWisdom', generation_info={'finish_reason': 'stop', 'logprobs': None})], [Generation(text='\\n\\nautomaton', generation_info={'finish_reason': 'stop', 'logprobs': None})]], llm_output={'token_usage': {'completion_tokens': 14, 'prompt_tokens': 30, 'total_tokens': 44}, 'model_name': 'text-davinci-003'}, run=RunInfo(run_id=UUID('d1506519-f450-41dd-9fee-b94f63f4667f')))"
      ]
     },
     "execution_count": 12,
     "metadata": {},
     "output_type": "execute_result"
    }
   ],
   "source": [
    "llm_chain.generate(input_list=input_list)\n"
   ]
  },
  {
   "cell_type": "code",
   "execution_count": 13,
   "metadata": {},
   "outputs": [
    {
     "data": {
      "text/plain": [
       "'\\n\\nventilator'"
      ]
     },
     "execution_count": 13,
     "metadata": {},
     "output_type": "execute_result"
    }
   ],
   "source": [
    "prompt_template = \"Looking at the context of {context}. What is the appropriate word to replace the following: {word}?\"\n",
    "\n",
    "\n",
    "llm_chain  =LLMChain(prompt=PromptTemplate(template = prompt_template,input_variables=[\"word\",\"context\"]), llm=llm)\n",
    "llm_chain.predict(word=\"fan\",context = \"object\")"
   ]
  },
  {
   "cell_type": "code",
   "execution_count": 14,
   "metadata": {},
   "outputs": [
    {
     "data": {
      "text/plain": [
       "'\\n\\nAdmirer'"
      ]
     },
     "execution_count": 14,
     "metadata": {},
     "output_type": "execute_result"
    }
   ],
   "source": [
    "llm_chain.predict(word=\"fan\",context = \"humans\")"
   ]
  },
  {
   "attachments": {},
   "cell_type": "markdown",
   "metadata": {},
   "source": [
    "### Chain with Parsers"
   ]
  },
  {
   "cell_type": "code",
   "execution_count": 15,
   "metadata": {},
   "outputs": [],
   "source": [
    "from langchain.output_parsers import CommaSeparatedListOutputParser\n",
    "\n",
    "output_parser = CommaSeparatedListOutputParser()\n",
    "template = \"List all possible words as substitute for 'artificial' as comma seperated.\""
   ]
  },
  {
   "cell_type": "code",
   "execution_count": 16,
   "metadata": {},
   "outputs": [
    {
     "data": {
      "text/plain": [
       "['Synthetic',\n",
       " 'manufactured',\n",
       " 'man-made',\n",
       " 'simulated',\n",
       " 'fabricated',\n",
       " 'mechanical',\n",
       " 'contrived',\n",
       " 'manufactured',\n",
       " 'computerized',\n",
       " 'robotic',\n",
       " 'programmed',\n",
       " 'automated',\n",
       " ' engineered',\n",
       " ' artificial intelligence',\n",
       " ' manufactured',\n",
       " ' lab-created',\n",
       " ' manufactured',\n",
       " ' constructed',\n",
       " ' imitation',\n",
       " ' unreal',\n",
       " ' manufactured',\n",
       " ' manufactured',\n",
       " ' manufactured',\n",
       " ' manufactured',\n",
       " ' manufactured',\n",
       " ' manufactured',\n",
       " ' manufactured',\n",
       " ' manufactured',\n",
       " ' manufactured',\n",
       " ' manufactured',\n",
       " ' manufactured',\n",
       " ' manufactured',\n",
       " ' manufactured',\n",
       " ' manufactured',\n",
       " ' manufactured',\n",
       " ' manufactured',\n",
       " ' manufactured',\n",
       " ' manufactured',\n",
       " ' manufactured',\n",
       " ' manufactured',\n",
       " ' manufactured',\n",
       " ' manufactured',\n",
       " ' manufactured',\n",
       " ' manufactured',\n",
       " ' manufactured',\n",
       " ' manufactured',\n",
       " ' manufactured',\n",
       " ' manufactured',\n",
       " ' manufactured',\n",
       " ' manufactured',\n",
       " ' manufactured',\n",
       " ' manufactured',\n",
       " ' manufactured',\n",
       " ' manufactured',\n",
       " ' manufactured',\n",
       " ' manufactured',\n",
       " ' manufactured',\n",
       " ' manufactured',\n",
       " ' manufactured',\n",
       " ' manufactured',\n",
       " ' manufactured',\n",
       " ' manufactured',\n",
       " ' manufactured',\n",
       " ' manufactured',\n",
       " ' manufactured',\n",
       " ' manufactured',\n",
       " ' manufactured',\n",
       " ' manufactured',\n",
       " ' manufactured',\n",
       " ' manufactured',\n",
       " ' manufactured',\n",
       " ' manufactured',\n",
       " ' manufactured',\n",
       " ' manufactured',\n",
       " ' manufactured',\n",
       " ' manufactured',\n",
       " ' manufactured',\n",
       " ' manufactured',\n",
       " ' manufactured',\n",
       " ' manufactured',\n",
       " ' manufactured',\n",
       " ' manufactured',\n",
       " ' manufactured',\n",
       " ' manufactured',\n",
       " ' manufactured',\n",
       " ' manufactured']"
      ]
     },
     "execution_count": 16,
     "metadata": {},
     "output_type": "execute_result"
    }
   ],
   "source": [
    "llm_chain = LLMChain(llm = llm, \n",
    "                     prompt=PromptTemplate(template=template, output_parser=output_parser, input_variables=[]))\n",
    "llm_chain.predict_and_parse()"
   ]
  },
  {
   "attachments": {},
   "cell_type": "markdown",
   "metadata": {},
   "source": [
    "### Conversational Chain"
   ]
  },
  {
   "cell_type": "code",
   "execution_count": 19,
   "metadata": {},
   "outputs": [
    {
     "data": {
      "text/plain": [
       "['Synthetic', 'manufactured', 'simulated']"
      ]
     },
     "execution_count": 19,
     "metadata": {},
     "output_type": "execute_result"
    }
   ],
   "source": [
    "from langchain.chains import ConversationChain\n",
    "from langchain.memory import ConversationBufferMemory\n",
    "\n",
    "template = \"\"\"List all possible words as substitute for 'artificial' as comma separated.\n",
    "\n",
    "Current conversation:\n",
    "{history}\n",
    "\n",
    "{input}\"\"\"\n",
    "\n",
    "conversation = ConversationChain(llm=llm, prompt =PromptTemplate(template=template, input_variables=[\"history\",\"input\"],output_parser=output_parser),memory=ConversationBufferMemory())\n",
    "\n",
    "conversation.predict_and_parse(input = \"Answer briefly. write the first 3 options\")"
   ]
  },
  {
   "cell_type": "code",
   "execution_count": 20,
   "metadata": {},
   "outputs": [
    {
     "data": {
      "text/plain": [
       "['Imitated', 'contrived', 'fabricated', 'man-made']"
      ]
     },
     "execution_count": 20,
     "metadata": {},
     "output_type": "execute_result"
    }
   ],
   "source": [
    "conversation.predict_and_parse(input=\"And the next 4?\")"
   ]
  },
  {
   "attachments": {},
   "cell_type": "markdown",
   "metadata": {},
   "source": [
    "### Simple Sequential Chain\n"
   ]
  },
  {
   "cell_type": "code",
   "execution_count": 21,
   "metadata": {},
   "outputs": [],
   "source": [
    "from langchain.llms import OpenAI\n",
    "from langchain.chains import LLMChain\n",
    "from langchain.prompts import PromptTemplate"
   ]
  },
  {
   "cell_type": "code",
   "execution_count": 28,
   "metadata": {},
   "outputs": [],
   "source": [
    "llm = OpenAI(temperature=0.7)\n",
    "template = \"\"\"\n",
    "You are a playwright. Given the title of play, it is your job to write a synopsis for that title.\n",
    "\n",
    "Title: {title}\n",
    "Playwright: This is a synopsis for the above play\n",
    "\"\"\"\n",
    "prompt_template = PromptTemplate(template=template, input_variables=['title'])\n",
    "synopsis_chain = LLMChain(llm=llm, prompt=prompt_template,verbose=True)"
   ]
  },
  {
   "cell_type": "code",
   "execution_count": 29,
   "metadata": {},
   "outputs": [],
   "source": [
    "llm = OpenAI(temperature=0.7)\n",
    "template = \"\"\"\n",
    "You are a play critic from the New York Times. Given the synopsis of play, it is your job to write a review for that play.\n",
    "\n",
    "Play Synopsis:\n",
    "{synopsis}\n",
    "Review from a New York Times play critic of the above play:\n",
    "\"\"\"\n",
    "prompt_template = PromptTemplate(template=template, input_variables=['synopsis'])\n",
    "review_chain = LLMChain(llm=llm, prompt=prompt_template,verbose=True)"
   ]
  },
  {
   "cell_type": "code",
   "execution_count": 30,
   "metadata": {},
   "outputs": [],
   "source": [
    "from langchain.chains import SimpleSequentialChain\n",
    "overall_chain = SimpleSequentialChain(chains=[synopsis_chain, review_chain], verbose=True)"
   ]
  },
  {
   "cell_type": "code",
   "execution_count": 31,
   "metadata": {},
   "outputs": [
    {
     "name": "stdout",
     "output_type": "stream",
     "text": [
      "\n",
      "\n",
      "\u001b[1m> Entering new  chain...\u001b[0m\n",
      "\n",
      "\n",
      "\u001b[1m> Entering new  chain...\u001b[0m\n",
      "Prompt after formatting:\n",
      "\u001b[32;1m\u001b[1;3m\n",
      "You are a playwright. Given the title of play, it is your job to write a synopsis for that title.\n",
      "\n",
      "Title: Targedy at sunset on the beach\n",
      "Playwright: This is a synopsis for the above play\n",
      "\u001b[0m\n",
      "\n",
      "\u001b[1m> Finished chain.\u001b[0m\n",
      "\u001b[36;1m\u001b[1;3m\n",
      "Targedy at Sunset on the Beach is a whimsical comedy about the lives of four twenty-somethings living on the beach in a small, coastal town. They come from different backgrounds and have different dreams, but they all share one thing: a desire to make the most of every minute of their lives.\n",
      "\n",
      "The play follows the four friends as they experience the joys and heartaches of life, from love and relationships, to career aspirations, to facing fears and growing pains. As the sun sets on each day, the friends share their stories, laugh, cry, and ultimately find comfort and strength in one another.\n",
      "\n",
      "The action culminates in a climactic moment at sunset on the beach where the friends each come to terms with their own individual experiences, and come to a new understanding of their place in the world. In the end, the friends come to learn that while life's challenges can be overwhelming, with a little love and support from those closest to us, we can all overcome and find peace.\u001b[0m\n",
      "\n",
      "\n",
      "\u001b[1m> Entering new  chain...\u001b[0m\n",
      "Prompt after formatting:\n",
      "\u001b[32;1m\u001b[1;3m\n",
      "You are a play critic from the New York Times. Given the synopsis of play, it is your job to write a review for that play.\n",
      "\n",
      "Play Synopsis:\n",
      "\n",
      "Targedy at Sunset on the Beach is a whimsical comedy about the lives of four twenty-somethings living on the beach in a small, coastal town. They come from different backgrounds and have different dreams, but they all share one thing: a desire to make the most of every minute of their lives.\n",
      "\n",
      "The play follows the four friends as they experience the joys and heartaches of life, from love and relationships, to career aspirations, to facing fears and growing pains. As the sun sets on each day, the friends share their stories, laugh, cry, and ultimately find comfort and strength in one another.\n",
      "\n",
      "The action culminates in a climactic moment at sunset on the beach where the friends each come to terms with their own individual experiences, and come to a new understanding of their place in the world. In the end, the friends come to learn that while life's challenges can be overwhelming, with a little love and support from those closest to us, we can all overcome and find peace.\n",
      "Review from a New York Times play critic of the above play:\n",
      "\u001b[0m\n",
      "\n",
      "\u001b[1m> Finished chain.\u001b[0m\n",
      "\u001b[33;1m\u001b[1;3m\n",
      "Targedy at Sunset on the Beach is a charming and heartwarming comedy that will leave theatergoers feeling uplifted and inspired. The four leads are all compelling and engaging characters, and the story of their lives and aspirations is well-told. \n",
      "\n",
      "The play shines in its ability to capture both the joys and pains of life, from the heady highs of love and friendship to the more somber lows of fear and doubt. The relationships between the characters are believable and nuanced, and the audience will be deeply invested in their journey as the story progresses. \n",
      "\n",
      "The play culminates in a powerful and moving climax at sunset on the beach, where the leads come to terms with their experiences and find the peace and strength to face the future. It is a beautiful and poignant moment that will leave audience members with a sense of hope and optimism. \n",
      "\n",
      "Overall, Targedy at Sunset on the Beach is an entertaining and uplifting production that is sure to leave its mark on theatergoers. Highly recommended.\u001b[0m\n",
      "\n",
      "\u001b[1m> Finished chain.\u001b[0m\n"
     ]
    }
   ],
   "source": [
    "review = overall_chain.run(\"Targedy at sunset on the beach\")"
   ]
  },
  {
   "cell_type": "code",
   "execution_count": 27,
   "metadata": {},
   "outputs": [
    {
     "data": {
      "text/plain": [
       "'\\nThe play “At the Beach” is a beautiful reminder of the power of love and family in times of hardship. The story follows a family on vacation at the beach, where they are enjoying the perfect time for relaxation and fun. However, tragedy strikes in the midst of the sunset when one of the family members is involved in a fatal accident. The play follows the family’s journey to healing and understanding the tragedy that has befallen them. It is a captivating story about how a family is able to come together and persevere through the darkness of grief and loss. The play is full of emotion and heart-wrenching moments that will stay with viewers long after the curtains close. The performances of the actors are powerful and moving, and they bring the story to life in a way that is both touching and moving. “At the Beach” is an emotional journey that will leave a lasting impression on its viewers.'"
      ]
     },
     "execution_count": 27,
     "metadata": {},
     "output_type": "execute_result"
    }
   ],
   "source": [
    "review"
   ]
  },
  {
   "cell_type": "code",
   "execution_count": null,
   "metadata": {},
   "outputs": [],
   "source": []
  }
 ],
 "metadata": {
  "kernelspec": {
   "display_name": "deeplakelangchain",
   "language": "python",
   "name": "python3"
  },
  "language_info": {
   "codemirror_mode": {
    "name": "ipython",
    "version": 3
   },
   "file_extension": ".py",
   "mimetype": "text/x-python",
   "name": "python",
   "nbconvert_exporter": "python",
   "pygments_lexer": "ipython3",
   "version": "3.10.11"
  },
  "orig_nbformat": 4
 },
 "nbformat": 4,
 "nbformat_minor": 2
}
