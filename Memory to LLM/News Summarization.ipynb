{
 "cells": [
  {
   "cell_type": "code",
   "execution_count": 1,
   "metadata": {},
   "outputs": [],
   "source": [
    "import os, sys\n",
    "sys.path.insert(1, 'D:\\Github\\DeepLake-Langchain')\n",
    "import credentials\n",
    "os.environ[\"OPENAI_API_KEY\"] = credentials.openai\n",
    "os.environ['ACTIVELOOP_TOKEN'] = credentials.active_loop"
   ]
  },
  {
   "cell_type": "code",
   "execution_count": 2,
   "metadata": {},
   "outputs": [],
   "source": [
    "import requests\n",
    "from newspaper import Article # https://github.com/codelucas/newspaper\n",
    "import time\n",
    "\n",
    "headers = {\n",
    "    'User-Agent': 'Mozilla/5.0 (Windows NT 10.0; Win64; x64) AppleWebKit/537.36 (KHTML, like Gecko) Chrome/89.0.4389.82 Safari/537.36'\n",
    "}\n",
    "\n",
    "article_urls = [\n",
    "    \"https://www.artificialintelligence-news.com/2023/05/16/openai-ceo-ai-regulation-is-essential/\",\n",
    "    \"https://www.artificialintelligence-news.com/2023/05/15/jay-migliaccio-ibm-watson-on-leveraging-ai-to-improve-productivity/\",\n",
    "    \"https://www.artificialintelligence-news.com/2023/05/15/iurii-milovanov-softserve-how-ai-ml-is-helping-boost-innovation-and-personalisation/\",\n",
    "    \"https://www.artificialintelligence-news.com/2023/05/11/ai-and-big-data-expo-north-america-begins-in-less-than-one-week/\",\n",
    "    \"https://www.artificialintelligence-news.com/2023/05/02/ai-godfather-warns-dangers-and-quits-google/\",\n",
    "    \"https://www.artificialintelligence-news.com/2023/04/28/palantir-demos-how-ai-can-used-military/\"\n",
    "]\n",
    "\n",
    "session = requests.Session()\n",
    "pages_content = [] # where we save the scraped articles\n",
    "\n",
    "for url in article_urls:\n",
    "    try:\n",
    "        time.sleep(2) # sleep two seconds for gentle scraping\n",
    "        response = session.get(url, headers=headers, timeout=10)\n",
    "\n",
    "        if response.status_code == 200:\n",
    "            article = Article(url)\n",
    "            article.download() # download HTML of webpage\n",
    "            article.parse() # parse HTML to extract the article text\n",
    "            pages_content.append({ \"url\": url, \"text\": article.text })\n",
    "        else:\n",
    "            print(f\"Failed to fetch article at {url}\")\n",
    "    except Exception as e:\n",
    "        print(f\"Error occurred while fetching article at {url}: {e}\")\n",
    "\n",
    "#If an error occurs while fetching an article, we catch the exception and print\n",
    "#an error message. This ensures that even if one article fails to download,\n",
    "#the rest of the articles can still be processed."
   ]
  },
  {
   "cell_type": "code",
   "execution_count": 3,
   "metadata": {},
   "outputs": [
    {
     "name": "stderr",
     "output_type": "stream",
     "text": [
      "d:\\Anaconda\\envs\\deeplakelangchain\\lib\\site-packages\\deeplake\\util\\check_latest_version.py:32: UserWarning: A newer version of deeplake (3.6.10) is available. It's recommended that you update to the latest version using `pip install -U deeplake`.\n",
      "  warnings.warn(\n"
     ]
    },
    {
     "name": "stdout",
     "output_type": "stream",
     "text": [
      "Your Deep Lake dataset has been successfully created!\n",
      "The dataset is private so make sure you are logged in!\n"
     ]
    },
    {
     "name": "stderr",
     "output_type": "stream",
     "text": [
      "\\"
     ]
    },
    {
     "name": "stdout",
     "output_type": "stream",
     "text": [
      "This dataset can be visualized in Jupyter Notebook by ds.visualize() or at https://app.activeloop.ai/megatron17/qabot_with_source\n"
     ]
    },
    {
     "name": "stderr",
     "output_type": "stream",
     "text": [
      " \r"
     ]
    },
    {
     "name": "stdout",
     "output_type": "stream",
     "text": [
      "hub://megatron17/qabot_with_source loaded successfully.\n"
     ]
    },
    {
     "name": "stderr",
     "output_type": "stream",
     "text": [
      " \r"
     ]
    }
   ],
   "source": [
    "from langchain.embeddings.openai import OpenAIEmbeddings\n",
    "from langchain.vectorstores import DeepLake\n",
    "\n",
    "embeddings = OpenAIEmbeddings(model=\"text-embedding-ada-002\")\n",
    "\n",
    "my_activeloop_org_id = credentials.active_loop_org_id\n",
    "my_activeloop_dataset_name = \"qabot_with_source\"\n",
    "dataset_path = f\"hub://{my_activeloop_org_id}/{my_activeloop_dataset_name}\"\n",
    "\n",
    "db = DeepLake(dataset_path=dataset_path, embedding_function=embeddings)"
   ]
  },
  {
   "cell_type": "code",
   "execution_count": 4,
   "metadata": {},
   "outputs": [],
   "source": [
    "# We split the article texts into small chunks. While doing so, we keep track of each\n",
    "# chunk metadata (i.e. the URL where it comes from). Each metadata is a dictionary and\n",
    "# we need to use the \"source\" key for the document source so that we can then use the\n",
    "# RetrievalQAWithSourcesChain class which will automatically retrieve the \"source\" item\n",
    "# from the metadata dictionary.\n",
    "\n",
    "from langchain.text_splitter import RecursiveCharacterTextSplitter\n",
    "\n",
    "text_splitter = RecursiveCharacterTextSplitter(chunk_size=1000, chunk_overlap=100)\n",
    "\n",
    "all_texts, all_metadatas = [], []\n",
    "for d in pages_content:\n",
    "    chunks = text_splitter.split_text(d[\"text\"])\n",
    "    for chunk in chunks:\n",
    "        all_texts.append(chunk)\n",
    "        all_metadatas.append({ \"source\": d[\"url\"] })"
   ]
  },
  {
   "cell_type": "code",
   "execution_count": 5,
   "metadata": {},
   "outputs": [
    {
     "name": "stderr",
     "output_type": "stream",
     "text": [
      "Evaluating ingest: 100%|██████████| 1/1 [00:49<00:00\n",
      "-"
     ]
    },
    {
     "name": "stdout",
     "output_type": "stream",
     "text": [
      "Dataset(path='hub://megatron17/qabot_with_source', tensors=['embedding', 'ids', 'metadata', 'text'])\n",
      "\n",
      "  tensor     htype     shape      dtype  compression\n",
      "  -------   -------   -------    -------  ------- \n",
      " embedding  generic  (49, 1536)  float32   None   \n",
      "    ids      text     (49, 1)      str     None   \n",
      " metadata    json     (49, 1)      str     None   \n",
      "   text      text     (49, 1)      str     None   \n"
     ]
    },
    {
     "name": "stderr",
     "output_type": "stream",
     "text": [
      " \r"
     ]
    },
    {
     "data": {
      "text/plain": [
       "['c70c24d1-23bd-11ee-9113-00d861dd19c7',\n",
       " 'c70c24d2-23bd-11ee-9870-00d861dd19c7',\n",
       " 'c70c24d3-23bd-11ee-859c-00d861dd19c7',\n",
       " 'c70c24d4-23bd-11ee-bf83-00d861dd19c7',\n",
       " 'c70c24d5-23bd-11ee-9587-00d861dd19c7',\n",
       " 'c70c24d6-23bd-11ee-816b-00d861dd19c7',\n",
       " 'c70c24d7-23bd-11ee-bbae-00d861dd19c7',\n",
       " 'c70c24d8-23bd-11ee-91a3-00d861dd19c7',\n",
       " 'c70c24d9-23bd-11ee-8cfe-00d861dd19c7',\n",
       " 'c70c24da-23bd-11ee-8b7b-00d861dd19c7',\n",
       " 'c70c24db-23bd-11ee-9865-00d861dd19c7',\n",
       " 'c70c24dc-23bd-11ee-9ecf-00d861dd19c7',\n",
       " 'c70c24dd-23bd-11ee-b31f-00d861dd19c7',\n",
       " 'c70c24de-23bd-11ee-9679-00d861dd19c7',\n",
       " 'c70c24df-23bd-11ee-a8ed-00d861dd19c7',\n",
       " 'c70c24e0-23bd-11ee-8712-00d861dd19c7',\n",
       " 'c70c24e1-23bd-11ee-8d34-00d861dd19c7',\n",
       " 'c70c24e2-23bd-11ee-b311-00d861dd19c7',\n",
       " 'c70c24e3-23bd-11ee-8ff6-00d861dd19c7',\n",
       " 'c70c24e4-23bd-11ee-8862-00d861dd19c7',\n",
       " 'c70c24e5-23bd-11ee-b62c-00d861dd19c7',\n",
       " 'c70c24e6-23bd-11ee-b042-00d861dd19c7',\n",
       " 'c70c24e7-23bd-11ee-b424-00d861dd19c7',\n",
       " 'c70c24e8-23bd-11ee-a6be-00d861dd19c7',\n",
       " 'c70c24e9-23bd-11ee-a7de-00d861dd19c7',\n",
       " 'c70c24ea-23bd-11ee-a283-00d861dd19c7',\n",
       " 'c70c24eb-23bd-11ee-9fd2-00d861dd19c7',\n",
       " 'c70c24ec-23bd-11ee-8ffa-00d861dd19c7',\n",
       " 'c70c24ed-23bd-11ee-b6d1-00d861dd19c7',\n",
       " 'c70c24ee-23bd-11ee-ab0b-00d861dd19c7',\n",
       " 'c70c24ef-23bd-11ee-bb77-00d861dd19c7',\n",
       " 'c70c24f0-23bd-11ee-8e31-00d861dd19c7',\n",
       " 'c70c24f1-23bd-11ee-800d-00d861dd19c7',\n",
       " 'c70c24f2-23bd-11ee-9055-00d861dd19c7',\n",
       " 'c70c24f3-23bd-11ee-ba8d-00d861dd19c7',\n",
       " 'c70c24f4-23bd-11ee-b2ba-00d861dd19c7',\n",
       " 'c70c24f5-23bd-11ee-b828-00d861dd19c7',\n",
       " 'c70c24f6-23bd-11ee-aa0c-00d861dd19c7',\n",
       " 'c70c24f7-23bd-11ee-9fb4-00d861dd19c7',\n",
       " 'c70c24f8-23bd-11ee-affb-00d861dd19c7',\n",
       " 'c70c24f9-23bd-11ee-a9ec-00d861dd19c7',\n",
       " 'c70c24fa-23bd-11ee-bf0d-00d861dd19c7',\n",
       " 'c70c24fb-23bd-11ee-ac9a-00d861dd19c7',\n",
       " 'c70c24fc-23bd-11ee-aed8-00d861dd19c7',\n",
       " 'c70c24fd-23bd-11ee-bb22-00d861dd19c7',\n",
       " 'c70c24fe-23bd-11ee-a4a3-00d861dd19c7',\n",
       " 'c70c24ff-23bd-11ee-b809-00d861dd19c7',\n",
       " 'c70c2500-23bd-11ee-866b-00d861dd19c7',\n",
       " 'c70c2501-23bd-11ee-a41f-00d861dd19c7']"
      ]
     },
     "execution_count": 5,
     "metadata": {},
     "output_type": "execute_result"
    }
   ],
   "source": [
    "# we add all the chunks to the deep lake, along with their metadata\n",
    "db.add_texts(all_texts, all_metadatas)"
   ]
  },
  {
   "cell_type": "code",
   "execution_count": 6,
   "metadata": {},
   "outputs": [],
   "source": [
    "# we create a RetrievalQAWithSourcesChain chain, which is very similar to a\n",
    "# standard retrieval QA chain but it also keeps track of the sources of the\n",
    "# retrieved documents\n",
    "\n",
    "from langchain.chains import RetrievalQAWithSourcesChain\n",
    "from langchain import OpenAI\n",
    "\n",
    "llm = OpenAI(model_name=\"text-davinci-003\", temperature=0)\n",
    "\n",
    "chain = RetrievalQAWithSourcesChain.from_chain_type(llm=llm,\n",
    "                                                    chain_type=\"stuff\",\n",
    "                                                    retriever=db.as_retriever())"
   ]
  },
  {
   "cell_type": "code",
   "execution_count": 7,
   "metadata": {},
   "outputs": [
    {
     "name": "stdout",
     "output_type": "stream",
     "text": [
      "Response:\n",
      " Geoffrey Hinton believes that the rapid development of generative AI products is \"racing towards danger\" and that false text, images, and videos created by AI could lead to a situation where average people \"would not be able to know what is true anymore.\" He also expressed concerns about the impact of AI on the job market, as machines could eventually replace roles such as paralegals, personal assistants, and translators.\n",
      "\n",
      "Sources:\n",
      "- https://www.artificialintelligence-news.com/2023/05/02/ai-godfather-warns-dangers-and-quits-google/\n"
     ]
    }
   ],
   "source": [
    "# We generate a response to a query using the chain. The response object is a dictionary containing\n",
    "# an \"answer\" field with the textual answer to the query, and a \"sources\" field containing a string made\n",
    "# of the concatenation of the metadata[\"source\"] strings of the retrieved documents.\n",
    "d_response = chain({\"question\": \"What does Geoffrey Hinton think about recent trends in AI?\"})\n",
    "\n",
    "print(\"Response:\")\n",
    "print(d_response[\"answer\"])\n",
    "print(\"Sources:\")\n",
    "for source in d_response[\"sources\"].split(\", \"):\n",
    "    print(\"- \" + source)"
   ]
  },
  {
   "cell_type": "code",
   "execution_count": null,
   "metadata": {},
   "outputs": [],
   "source": []
  }
 ],
 "metadata": {
  "kernelspec": {
   "display_name": "deeplakelangchain",
   "language": "python",
   "name": "python3"
  },
  "language_info": {
   "codemirror_mode": {
    "name": "ipython",
    "version": 3
   },
   "file_extension": ".py",
   "mimetype": "text/x-python",
   "name": "python",
   "nbconvert_exporter": "python",
   "pygments_lexer": "ipython3",
   "version": "3.10.11"
  },
  "orig_nbformat": 4
 },
 "nbformat": 4,
 "nbformat_minor": 2
}
