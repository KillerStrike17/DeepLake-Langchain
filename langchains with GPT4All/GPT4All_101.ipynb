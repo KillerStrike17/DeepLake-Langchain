{
 "cells": [
  {
   "cell_type": "code",
   "execution_count": 1,
   "metadata": {},
   "outputs": [
    {
     "name": "stderr",
     "output_type": "stream",
     "text": [
      "d:\\Anaconda\\envs\\deeplakelangchain\\lib\\site-packages\\deeplake\\util\\check_latest_version.py:32: UserWarning: A newer version of deeplake (3.6.7) is available. It's recommended that you update to the latest version using `pip install -U deeplake`.\n",
      "  warnings.warn(\n"
     ]
    }
   ],
   "source": [
    "import os, sys\n",
    "sys.path.insert(1,'D:\\Github\\DeepLake-Langchain\\models')\n",
    "from langchain.llms import GPT4All\n",
    "from langchain import PromptTemplate, LLMChain\n",
    "from langchain.callbacks.base import BaseCallbackManager\n",
    "from langchain.callbacks import StreamingStdOutCallbackHandler"
   ]
  },
  {
   "cell_type": "code",
   "execution_count": 2,
   "metadata": {},
   "outputs": [],
   "source": [
    "template = \"\"\"Question: {question}\n",
    "\n",
    "Answer: Let's think step by step.\n",
    "\"\"\"\n",
    "\n",
    "prompt = PromptTemplate(template=template, input_variables=[\"question\"])"
   ]
  },
  {
   "cell_type": "code",
   "execution_count": 4,
   "metadata": {},
   "outputs": [
    {
     "name": "stdout",
     "output_type": "stream",
     "text": [
      "Found model file at  D:\\\\Github\\\\DeepLake-Langchain\\\\models\\\\ggml-model-q4_0.bin\n"
     ]
    }
   ],
   "source": [
    "callback_manager = BaseCallbackManager([StreamingStdOutCallbackHandler()])\n",
    "llm = GPT4All(model = 'D:\\Github\\DeepLake-Langchain\\models\\ggml-model-q4_0.bin',callback_manager=callback_manager, verbose=True)\n",
    "llm_chain = LLMChain(prompt=prompt, llm = llm)"
   ]
  },
  {
   "cell_type": "code",
   "execution_count": 5,
   "metadata": {},
   "outputs": [
    {
     "name": "stdout",
     "output_type": "stream",
     "text": [
      "When rain falls, the clouds will be filled with water vapour which rises up to form cumulonimbus (CB) cloud in a layer between troposphere and stratospheres known as tropopause at an altitude of around 10 kilometres above sea level due to high pressure difference. If these CBs reach the surface, they will release their water contents which cause rainfall on Earth's surface by means of updraft or downpour process in different ways depending upon location and seasonality. In other words when it rain somewhere around us then this phenomenon occurs due to cumulonimbus cloud formation at high altitudes where the air pressure is less than that nearer ground level which results into convectional lift of moisture laden air from lower atmospheric layers by a series process.\n",
      "When rain falls, the clouds will be filled with water vapour which rises up to form cumulonimbus (CB) cloud in a layer between troposphere and stratospheres known as tropopause at an altitude of around 10 kilometres above sea level due to high pressure difference. If these CBs reach the surface, they will release their water contents which cause rainfall on Earth's surface by means of updraft or downpour process in different ways depending upon location and seasonality. In other words when it rain somewhere around us then this phenomenon occurs due to cumulonimbus cloud formation at high altitudes where the air pressure is less than that nearer ground level which results into convectional lift of moisture laden air from lower atmospheric layers by a series process."
     ]
    },
    {
     "data": {
      "text/plain": [
       "\"When rain falls, the clouds will be filled with water vapour which rises up to form cumulonimbus (CB) cloud in a layer between troposphere and stratospheres known as tropopause at an altitude of around 10 kilometres above sea level due to high pressure difference. If these CBs reach the surface, they will release their water contents which cause rainfall on Earth's surface by means of updraft or downpour process in different ways depending upon location and seasonality. In other words when it rain somewhere around us then this phenomenon occurs due to cumulonimbus cloud formation at high altitudes where the air pressure is less than that nearer ground level which results into convectional lift of moisture laden air from lower atmospheric layers by a series process.\""
      ]
     },
     "execution_count": 5,
     "metadata": {},
     "output_type": "execute_result"
    }
   ],
   "source": [
    "question = \"What happens when it rains somewhere?\"\n",
    "llm_chain.run(question)"
   ]
  },
  {
   "cell_type": "code",
   "execution_count": 6,
   "metadata": {},
   "outputs": [],
   "source": [
    "template = \"\"\"\n",
    "Question: {question}\n",
    "\n",
    "Answer: Let's answer in two sentence while being funny.\"\"\"\n",
    "\n",
    "prompt = PromptTemplate(template=template, input_variables=[\"question\"])"
   ]
  },
  {
   "cell_type": "code",
   "execution_count": null,
   "metadata": {},
   "outputs": [],
   "source": []
  }
 ],
 "metadata": {
  "kernelspec": {
   "display_name": "deeplakelangchain",
   "language": "python",
   "name": "python3"
  },
  "language_info": {
   "codemirror_mode": {
    "name": "ipython",
    "version": 3
   },
   "file_extension": ".py",
   "mimetype": "text/x-python",
   "name": "python",
   "nbconvert_exporter": "python",
   "pygments_lexer": "ipython3",
   "version": "3.10.11"
  },
  "orig_nbformat": 4
 },
 "nbformat": 4,
 "nbformat_minor": 2
}
